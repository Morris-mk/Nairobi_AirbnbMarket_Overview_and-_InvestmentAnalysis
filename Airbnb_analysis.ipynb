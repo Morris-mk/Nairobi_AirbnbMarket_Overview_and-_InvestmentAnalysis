{
 "cells": [
  {
   "cell_type": "markdown",
   "id": "65d39c48",
   "metadata": {},
   "source": [
    "# Nairobi AirBnb Listing data Analysis\n",
    "- Data for the last 12 months (upto August 30, 2025)"
   ]
  },
  {
   "cell_type": "code",
   "execution_count": 1,
   "id": "4cf5754e",
   "metadata": {},
   "outputs": [],
   "source": [
    "# import libraries and load data \n",
    "import pandas as pd\n",
    "import numpy as np\n",
    "import matplotlib.pyplot as plt\n",
    "plt.style.use('ggplot')\n",
    "import seaborn as sns\n",
    "\n",
    "# load df_listings with information about properties listed\n",
    "df_listings = pd.read_csv(r'https://github.com/Morris-mk/Nairobi_AirbnbMarket_Overview_and-_InvestmentAnalysis/raw/refs/heads/main/data/listings_raw_data.csv')\n",
    "\n",
    "# load df_calendar with information on occupancy of the Airbnbs\n",
    "df_calendar =pd.read_csv(r'https://github.com/Morris-mk/Nairobi_AirbnbMarket_Overview_and-_InvestmentAnalysis/raw/refs/heads/main/data/past_calendar_rates_raw_data.csv')"
   ]
  },
  {
   "cell_type": "code",
   "execution_count": 2,
   "id": "086ae73f",
   "metadata": {},
   "outputs": [
    {
     "name": "stdout",
     "output_type": "stream",
     "text": [
      "(300, 61)\n"
     ]
    },
    {
     "data": {
      "application/vnd.microsoft.datawrangler.viewer.v0+json": {
       "columns": [
        {
         "name": "index",
         "rawType": "int64",
         "type": "integer"
        },
        {
         "name": "listing_id",
         "rawType": "int64",
         "type": "integer"
        },
        {
         "name": "listing_name",
         "rawType": "object",
         "type": "string"
        },
        {
         "name": "listing_type",
         "rawType": "object",
         "type": "string"
        },
        {
         "name": "room_type",
         "rawType": "object",
         "type": "string"
        },
        {
         "name": "cover_photo_url",
         "rawType": "object",
         "type": "string"
        },
        {
         "name": "photos_count",
         "rawType": "int64",
         "type": "integer"
        },
        {
         "name": "host_id",
         "rawType": "int64",
         "type": "integer"
        },
        {
         "name": "host_name",
         "rawType": "object",
         "type": "unknown"
        },
        {
         "name": "cohost_ids",
         "rawType": "object",
         "type": "unknown"
        },
        {
         "name": "cohost_names",
         "rawType": "object",
         "type": "unknown"
        },
        {
         "name": "superhost",
         "rawType": "bool",
         "type": "boolean"
        },
        {
         "name": "latitude",
         "rawType": "float64",
         "type": "float"
        },
        {
         "name": "longitude",
         "rawType": "float64",
         "type": "float"
        },
        {
         "name": "guests",
         "rawType": "float64",
         "type": "float"
        },
        {
         "name": "bedrooms",
         "rawType": "float64",
         "type": "float"
        },
        {
         "name": "beds",
         "rawType": "float64",
         "type": "float"
        },
        {
         "name": "baths",
         "rawType": "float64",
         "type": "float"
        },
        {
         "name": "registration",
         "rawType": "object",
         "type": "unknown"
        },
        {
         "name": "amenities",
         "rawType": "object",
         "type": "string"
        },
        {
         "name": "instant_book",
         "rawType": "object",
         "type": "unknown"
        },
        {
         "name": "min_nights",
         "rawType": "float64",
         "type": "float"
        },
        {
         "name": "cancellation_policy",
         "rawType": "object",
         "type": "string"
        },
        {
         "name": "currency",
         "rawType": "object",
         "type": "string"
        },
        {
         "name": "cleaning_fee",
         "rawType": "float64",
         "type": "float"
        },
        {
         "name": "extra_guest_fee",
         "rawType": "float64",
         "type": "float"
        },
        {
         "name": "num_reviews",
         "rawType": "int64",
         "type": "integer"
        },
        {
         "name": "rating_overall",
         "rawType": "float64",
         "type": "float"
        },
        {
         "name": "rating_accuracy",
         "rawType": "float64",
         "type": "float"
        },
        {
         "name": "rating_checkin",
         "rawType": "float64",
         "type": "float"
        },
        {
         "name": "rating_cleanliness",
         "rawType": "float64",
         "type": "float"
        },
        {
         "name": "rating_communication",
         "rawType": "float64",
         "type": "float"
        },
        {
         "name": "rating_location",
         "rawType": "float64",
         "type": "float"
        },
        {
         "name": "rating_value",
         "rawType": "float64",
         "type": "float"
        },
        {
         "name": "ttm_revenue",
         "rawType": "float64",
         "type": "float"
        },
        {
         "name": "ttm_revenue_native",
         "rawType": "float64",
         "type": "float"
        },
        {
         "name": "ttm_avg_rate",
         "rawType": "float64",
         "type": "float"
        },
        {
         "name": "ttm_avg_rate_native",
         "rawType": "float64",
         "type": "float"
        },
        {
         "name": "ttm_occupancy",
         "rawType": "float64",
         "type": "float"
        },
        {
         "name": "ttm_adjusted_occupancy",
         "rawType": "float64",
         "type": "float"
        },
        {
         "name": "ttm_revpar",
         "rawType": "float64",
         "type": "float"
        },
        {
         "name": "ttm_revpar_native",
         "rawType": "float64",
         "type": "float"
        },
        {
         "name": "ttm_adjusted_revpar",
         "rawType": "float64",
         "type": "float"
        },
        {
         "name": "ttm_adjusted_revpar_native",
         "rawType": "float64",
         "type": "float"
        },
        {
         "name": "ttm_reserved_days",
         "rawType": "int64",
         "type": "integer"
        },
        {
         "name": "ttm_blocked_days",
         "rawType": "int64",
         "type": "integer"
        },
        {
         "name": "ttm_available_days",
         "rawType": "int64",
         "type": "integer"
        },
        {
         "name": "ttm_total_days",
         "rawType": "int64",
         "type": "integer"
        },
        {
         "name": "l90d_revenue",
         "rawType": "float64",
         "type": "float"
        },
        {
         "name": "l90d_revenue_native",
         "rawType": "float64",
         "type": "float"
        },
        {
         "name": "l90d_avg_rate",
         "rawType": "float64",
         "type": "float"
        },
        {
         "name": "l90d_avg_rate_native",
         "rawType": "float64",
         "type": "float"
        },
        {
         "name": "l90d_occupancy",
         "rawType": "float64",
         "type": "float"
        },
        {
         "name": "l90d_adjusted_occupancy",
         "rawType": "float64",
         "type": "float"
        },
        {
         "name": "l90d_revpar",
         "rawType": "float64",
         "type": "float"
        },
        {
         "name": "l90d_revpar_native",
         "rawType": "float64",
         "type": "float"
        },
        {
         "name": "l90d_adjusted_revpar",
         "rawType": "float64",
         "type": "float"
        },
        {
         "name": "l90d_adjusted_revpar_native",
         "rawType": "float64",
         "type": "float"
        },
        {
         "name": "l90d_reserved_days",
         "rawType": "int64",
         "type": "integer"
        },
        {
         "name": "l90d_blocked_days",
         "rawType": "int64",
         "type": "integer"
        },
        {
         "name": "l90d_available_days",
         "rawType": "int64",
         "type": "integer"
        },
        {
         "name": "l90d_total_days",
         "rawType": "int64",
         "type": "integer"
        }
       ],
       "ref": "65f24c49-c279-487a-b1ed-cc1d5305465a",
       "rows": [
        [
         "0",
         "471581",
         "Located In a Serene Environment",
         "Entire cottage",
         "entire_home",
         "https://a0.muscache.com/im/pictures/6434524/bcd9fbe4_original.jpg",
         "37",
         "2280941",
         "Bella",
         null,
         null,
         "True",
         "-1.2268",
         "36.8577",
         "3.0",
         "2.0",
         "2.0",
         "1.0",
         "False",
         "TV,Wifi,Kitchen,Free parking on premises,Hot water,Body soap,Resort access,Mosquito net,Bed linens,Extra pillows and blankets,Outdoor furniture,Microwave,Refrigerator,Dishes and silverware,Cooking basics,Oven,Stove,Washer,Backyard,Essentials,Shampoo,Hangers,Iron,Dedicated workspace",
         "False",
         "2.0",
         "Moderate",
         "KES",
         "28.0",
         "0.0",
         "80",
         "4.81",
         "4.8",
         "4.8",
         "4.7",
         "4.9",
         "4.8",
         "4.8",
         "4416.0",
         "570748.0",
         "41.7",
         "5388.2",
         "0.296",
         "0.4",
         "12.1",
         "1563.7",
         "16.4",
         "2113.9",
         "108",
         "95",
         "257",
         "365",
         "1807.0",
         "233475.0",
         "40.3",
         "5202.7",
         "0.5",
         "0.726",
         "20.1",
         "2594.2",
         "29.1",
         "3765.7",
         "45",
         "28",
         "45",
         "90"
        ],
        [
         "1",
         "906958",
         "Makena's Place Karen - Flamingo Room",
         "Private room in cottage",
         "private_room",
         "https://a0.muscache.com/im/pictures/68ecc57f-d57b-4d12-bfa6-bbd1fb4107e3.jpg",
         "29",
         "4856316",
         "Chichi",
         null,
         null,
         "True",
         "-1.324",
         "36.7053",
         null,
         null,
         "1.0",
         "0.0",
         "False",
         "Wifi,Kitchen,Free parking on premises,Smoking allowed,Hot water,Breakfast,Outdoor furniture,Microwave,Indoor fireplace,Refrigerator,Dishes and silverware,Cooking basics,Oven,Stove,Washer,Dryer,BBQ grill,Patio or balcony,Backyard,Fire extinguisher,Luggage dropoff allowed,Essentials,Long term stays allowed,Lock on bedroom door,Hangers,Hair dryer,Iron,Dedicated workspace,Outdoor dining area,Private entrance",
         "True",
         "1.0",
         "Firm",
         "KES",
         "0.0",
         "20.0",
         "66",
         "4.91",
         "4.9",
         "4.9",
         "5.0",
         "4.9",
         "4.9",
         "4.9",
         "3803.0",
         "491304.0",
         "48.1",
         "6215.8",
         "0.222",
         "0.236",
         "10.4",
         "1346.0",
         "11.1",
         "1432.4",
         "81",
         "22",
         "284",
         "365",
         "525.0",
         "67833.0",
         "53.3",
         "6888.1",
         "0.111",
         "0.147",
         "5.8",
         "753.7",
         "7.7",
         "997.5",
         "10",
         "22",
         "80",
         "90"
        ],
        [
         "2",
         "1023556",
         "Home in Langata 1 km to Nairobi National Park",
         "Entire guesthouse",
         "entire_home",
         "https://a0.muscache.com/im/pictures/01cc7287-2039-445b-a261-c0d16290f19b.jpg",
         "20",
         "5634522",
         "Janet",
         null,
         null,
         "False",
         "-1.3222",
         "36.7852",
         "2.0",
         "1.0",
         "1.0",
         "1.0",
         "False",
         "TV,Blender,Wifi,Babysitter recommendations,Kitchen,Free parking on premises,Room-darkening shades,Hot water kettle,Children’s dinnerware,Portable fans,Smoking allowed,Pets allowed,Hot water,Body soap,Mini fridge,Mosquito net,Bed linens,Extra pillows and blankets,Microwave,Cleaning products,Drying rack for clothing,Dishes and silverware,Cooking basics,Coffee,Clothing storage,Stove,Wine glasses,Washer,Single level home,Backyard,Luggage dropoff allowed,Essentials,Long term stays allowed,Cleaning before checkout,Hangers,Hair dryer,Iron,Dedicated workspace,Freezer,Rice maker",
         "False",
         "1.0",
         "Moderate",
         "KES",
         "5.0",
         "0.0",
         "154",
         "4.84",
         "4.9",
         "4.9",
         "4.9",
         "4.9",
         "4.7",
         "4.8",
         "218.0",
         "28230.0",
         "28.2",
         "3647.1",
         "0.03",
         "0.0",
         "0.6",
         "77.3",
         "0.0",
         "0.0",
         "11",
         "0",
         "354",
         "365",
         "78.0",
         "10078.0",
         "19.2",
         "2482.1",
         "0.044",
         "0.0",
         "0.9",
         "112.0",
         "0.0",
         "0.0",
         "4",
         "0",
         "86",
         "90"
        ],
        [
         "3",
         "1237886",
         "Hob House",
         "Room in bed and breakfast",
         "hotel_room",
         "https://a0.muscache.com/im/pictures/cbdab7e1-f840-44ed-a028-6085d21ea284.jpg?aki_policy=medium",
         "8",
         "6748840",
         null,
         null,
         null,
         "False",
         "-1.2258",
         "36.7679",
         "2.0",
         "7.0",
         "9.0",
         "1.0",
         null,
         "Air conditioning,Kitchen,Dryer,Heating,Wifi,Free parking on premises,Hair dryer,Cable TV,Iron,Washer,TV,Breakfast,Hangers,Essentials,Indoor fireplace,Smoke alarm,Carbon monoxide alarm,First aid kit,Fire extinguisher,Shampoo,Bathtub,Baby bath,High chair,Children’s books and toys,Window guards,Fireplace guards,Babysitter recommendations,Room-darkening shades,Hot water,Bed linens,Extra pillows and blankets,Microwave,Coffee maker,Refrigerator,Dishes and silverware,Cooking basics,Oven,Stove,BBQ grill,Backyard,Luggage dropoff allowed,Long term stays allowed",
         null,
         "1.0",
         "Flexible",
         "KES",
         "0.0",
         "20.0",
         "57",
         "4.79",
         "4.8",
         "4.8",
         "4.9",
         "4.6",
         "4.7",
         "4.8",
         "1733.0",
         "223430.0",
         "114.4",
         "14775.9",
         "0.041",
         "0.0",
         "4.7",
         "612.1",
         "0.0",
         "0.0",
         "15",
         "0",
         "350",
         "365",
         "620.0",
         "80106.0",
         "121.0",
         "15639.3",
         "0.056",
         "0.0",
         "6.9",
         "890.1",
         "0.0",
         "0.0",
         "5",
         "0",
         "85",
         "90"
        ],
        [
         "4",
         "1803821",
         "Makena's Place Karen - All Rooms",
         "Private room in cottage",
         "private_room",
         "https://a0.muscache.com/im/pictures/786899c5-b8a6-4453-bb73-a9f0e90add80.jpg",
         "58",
         "4856316",
         "Chichi",
         null,
         null,
         "True",
         "-1.3237",
         "36.7059",
         null,
         "3.0",
         "3.0",
         "0.0",
         "False",
         "Wifi,Kitchen,Free parking on premises,Smoking allowed,Hot water,Breakfast,Outdoor furniture,Microwave,Coffee maker,Indoor fireplace,Refrigerator,Dishes and silverware,Cooking basics,Oven,Stove,Washer,Dryer,BBQ grill,Patio or balcony,Backyard,Fire extinguisher,Luggage dropoff allowed,Essentials,Long term stays allowed,Lock on bedroom door,Hangers,Hair dryer,Iron,Dedicated workspace,Private entrance",
         "True",
         "1.0",
         "Firm",
         "KES",
         "10.0",
         "0.0",
         "11",
         "4.91",
         "5.0",
         "5.0",
         "5.0",
         "4.5",
         "4.9",
         "4.9",
         "4975.0",
         "642180.0",
         "126.6",
         "16361.8",
         "0.107",
         "0.125",
         "13.6",
         "1759.4",
         "15.9",
         "2058.3",
         "39",
         "53",
         "326",
         "365",
         "507.0",
         "65507.0",
         "125.4",
         "16196.3",
         "0.044",
         "0.055",
         "5.6",
         "727.9",
         "6.9",
         "897.4",
         "4",
         "17",
         "86",
         "90"
        ]
       ],
       "shape": {
        "columns": 61,
        "rows": 5
       }
      },
      "text/html": [
       "<div>\n",
       "<style scoped>\n",
       "    .dataframe tbody tr th:only-of-type {\n",
       "        vertical-align: middle;\n",
       "    }\n",
       "\n",
       "    .dataframe tbody tr th {\n",
       "        vertical-align: top;\n",
       "    }\n",
       "\n",
       "    .dataframe thead th {\n",
       "        text-align: right;\n",
       "    }\n",
       "</style>\n",
       "<table border=\"1\" class=\"dataframe\">\n",
       "  <thead>\n",
       "    <tr style=\"text-align: right;\">\n",
       "      <th></th>\n",
       "      <th>listing_id</th>\n",
       "      <th>listing_name</th>\n",
       "      <th>listing_type</th>\n",
       "      <th>room_type</th>\n",
       "      <th>cover_photo_url</th>\n",
       "      <th>photos_count</th>\n",
       "      <th>host_id</th>\n",
       "      <th>host_name</th>\n",
       "      <th>cohost_ids</th>\n",
       "      <th>cohost_names</th>\n",
       "      <th>...</th>\n",
       "      <th>l90d_occupancy</th>\n",
       "      <th>l90d_adjusted_occupancy</th>\n",
       "      <th>l90d_revpar</th>\n",
       "      <th>l90d_revpar_native</th>\n",
       "      <th>l90d_adjusted_revpar</th>\n",
       "      <th>l90d_adjusted_revpar_native</th>\n",
       "      <th>l90d_reserved_days</th>\n",
       "      <th>l90d_blocked_days</th>\n",
       "      <th>l90d_available_days</th>\n",
       "      <th>l90d_total_days</th>\n",
       "    </tr>\n",
       "  </thead>\n",
       "  <tbody>\n",
       "    <tr>\n",
       "      <th>0</th>\n",
       "      <td>471581</td>\n",
       "      <td>Located In a Serene Environment</td>\n",
       "      <td>Entire cottage</td>\n",
       "      <td>entire_home</td>\n",
       "      <td>https://a0.muscache.com/im/pictures/6434524/bc...</td>\n",
       "      <td>37</td>\n",
       "      <td>2280941</td>\n",
       "      <td>Bella</td>\n",
       "      <td>NaN</td>\n",
       "      <td>NaN</td>\n",
       "      <td>...</td>\n",
       "      <td>0.500</td>\n",
       "      <td>0.726</td>\n",
       "      <td>20.1</td>\n",
       "      <td>2594.2</td>\n",
       "      <td>29.1</td>\n",
       "      <td>3765.7</td>\n",
       "      <td>45</td>\n",
       "      <td>28</td>\n",
       "      <td>45</td>\n",
       "      <td>90</td>\n",
       "    </tr>\n",
       "    <tr>\n",
       "      <th>1</th>\n",
       "      <td>906958</td>\n",
       "      <td>Makena's Place Karen - Flamingo Room</td>\n",
       "      <td>Private room in cottage</td>\n",
       "      <td>private_room</td>\n",
       "      <td>https://a0.muscache.com/im/pictures/68ecc57f-d...</td>\n",
       "      <td>29</td>\n",
       "      <td>4856316</td>\n",
       "      <td>Chichi</td>\n",
       "      <td>NaN</td>\n",
       "      <td>NaN</td>\n",
       "      <td>...</td>\n",
       "      <td>0.111</td>\n",
       "      <td>0.147</td>\n",
       "      <td>5.8</td>\n",
       "      <td>753.7</td>\n",
       "      <td>7.7</td>\n",
       "      <td>997.5</td>\n",
       "      <td>10</td>\n",
       "      <td>22</td>\n",
       "      <td>80</td>\n",
       "      <td>90</td>\n",
       "    </tr>\n",
       "    <tr>\n",
       "      <th>2</th>\n",
       "      <td>1023556</td>\n",
       "      <td>Home in Langata 1 km to Nairobi National Park</td>\n",
       "      <td>Entire guesthouse</td>\n",
       "      <td>entire_home</td>\n",
       "      <td>https://a0.muscache.com/im/pictures/01cc7287-2...</td>\n",
       "      <td>20</td>\n",
       "      <td>5634522</td>\n",
       "      <td>Janet</td>\n",
       "      <td>NaN</td>\n",
       "      <td>NaN</td>\n",
       "      <td>...</td>\n",
       "      <td>0.044</td>\n",
       "      <td>0.000</td>\n",
       "      <td>0.9</td>\n",
       "      <td>112.0</td>\n",
       "      <td>0.0</td>\n",
       "      <td>0.0</td>\n",
       "      <td>4</td>\n",
       "      <td>0</td>\n",
       "      <td>86</td>\n",
       "      <td>90</td>\n",
       "    </tr>\n",
       "    <tr>\n",
       "      <th>3</th>\n",
       "      <td>1237886</td>\n",
       "      <td>Hob House</td>\n",
       "      <td>Room in bed and breakfast</td>\n",
       "      <td>hotel_room</td>\n",
       "      <td>https://a0.muscache.com/im/pictures/cbdab7e1-f...</td>\n",
       "      <td>8</td>\n",
       "      <td>6748840</td>\n",
       "      <td>NaN</td>\n",
       "      <td>NaN</td>\n",
       "      <td>NaN</td>\n",
       "      <td>...</td>\n",
       "      <td>0.056</td>\n",
       "      <td>0.000</td>\n",
       "      <td>6.9</td>\n",
       "      <td>890.1</td>\n",
       "      <td>0.0</td>\n",
       "      <td>0.0</td>\n",
       "      <td>5</td>\n",
       "      <td>0</td>\n",
       "      <td>85</td>\n",
       "      <td>90</td>\n",
       "    </tr>\n",
       "    <tr>\n",
       "      <th>4</th>\n",
       "      <td>1803821</td>\n",
       "      <td>Makena's Place Karen - All Rooms</td>\n",
       "      <td>Private room in cottage</td>\n",
       "      <td>private_room</td>\n",
       "      <td>https://a0.muscache.com/im/pictures/786899c5-b...</td>\n",
       "      <td>58</td>\n",
       "      <td>4856316</td>\n",
       "      <td>Chichi</td>\n",
       "      <td>NaN</td>\n",
       "      <td>NaN</td>\n",
       "      <td>...</td>\n",
       "      <td>0.044</td>\n",
       "      <td>0.055</td>\n",
       "      <td>5.6</td>\n",
       "      <td>727.9</td>\n",
       "      <td>6.9</td>\n",
       "      <td>897.4</td>\n",
       "      <td>4</td>\n",
       "      <td>17</td>\n",
       "      <td>86</td>\n",
       "      <td>90</td>\n",
       "    </tr>\n",
       "  </tbody>\n",
       "</table>\n",
       "<p>5 rows × 61 columns</p>\n",
       "</div>"
      ],
      "text/plain": [
       "   listing_id                                   listing_name  \\\n",
       "0      471581                Located In a Serene Environment   \n",
       "1      906958           Makena's Place Karen - Flamingo Room   \n",
       "2     1023556  Home in Langata 1 km to Nairobi National Park   \n",
       "3     1237886                                      Hob House   \n",
       "4     1803821               Makena's Place Karen - All Rooms   \n",
       "\n",
       "                listing_type     room_type  \\\n",
       "0             Entire cottage   entire_home   \n",
       "1    Private room in cottage  private_room   \n",
       "2          Entire guesthouse   entire_home   \n",
       "3  Room in bed and breakfast    hotel_room   \n",
       "4    Private room in cottage  private_room   \n",
       "\n",
       "                                     cover_photo_url  photos_count  host_id  \\\n",
       "0  https://a0.muscache.com/im/pictures/6434524/bc...            37  2280941   \n",
       "1  https://a0.muscache.com/im/pictures/68ecc57f-d...            29  4856316   \n",
       "2  https://a0.muscache.com/im/pictures/01cc7287-2...            20  5634522   \n",
       "3  https://a0.muscache.com/im/pictures/cbdab7e1-f...             8  6748840   \n",
       "4  https://a0.muscache.com/im/pictures/786899c5-b...            58  4856316   \n",
       "\n",
       "  host_name cohost_ids cohost_names  ...  l90d_occupancy  \\\n",
       "0     Bella        NaN          NaN  ...           0.500   \n",
       "1    Chichi        NaN          NaN  ...           0.111   \n",
       "2     Janet        NaN          NaN  ...           0.044   \n",
       "3       NaN        NaN          NaN  ...           0.056   \n",
       "4    Chichi        NaN          NaN  ...           0.044   \n",
       "\n",
       "   l90d_adjusted_occupancy  l90d_revpar  l90d_revpar_native  \\\n",
       "0                    0.726         20.1              2594.2   \n",
       "1                    0.147          5.8               753.7   \n",
       "2                    0.000          0.9               112.0   \n",
       "3                    0.000          6.9               890.1   \n",
       "4                    0.055          5.6               727.9   \n",
       "\n",
       "   l90d_adjusted_revpar  l90d_adjusted_revpar_native  l90d_reserved_days  \\\n",
       "0                  29.1                       3765.7                  45   \n",
       "1                   7.7                        997.5                  10   \n",
       "2                   0.0                          0.0                   4   \n",
       "3                   0.0                          0.0                   5   \n",
       "4                   6.9                        897.4                   4   \n",
       "\n",
       "  l90d_blocked_days l90d_available_days l90d_total_days  \n",
       "0                28                  45              90  \n",
       "1                22                  80              90  \n",
       "2                 0                  86              90  \n",
       "3                 0                  85              90  \n",
       "4                17                  86              90  \n",
       "\n",
       "[5 rows x 61 columns]"
      ]
     },
     "execution_count": 2,
     "metadata": {},
     "output_type": "execute_result"
    }
   ],
   "source": [
    "print(df_listings.shape)\n",
    "df_listings.head()"
   ]
  },
  {
   "cell_type": "code",
   "execution_count": 2,
   "id": "537136fd",
   "metadata": {},
   "outputs": [
    {
     "name": "stdout",
     "output_type": "stream",
     "text": [
      "<class 'pandas.core.frame.DataFrame'>\n",
      "RangeIndex: 300 entries, 0 to 299\n",
      "Data columns (total 61 columns):\n",
      " #   Column                       Non-Null Count  Dtype  \n",
      "---  ------                       --------------  -----  \n",
      " 0   listing_id                   300 non-null    int64  \n",
      " 1   listing_name                 300 non-null    object \n",
      " 2   listing_type                 300 non-null    object \n",
      " 3   room_type                    300 non-null    object \n",
      " 4   cover_photo_url              300 non-null    object \n",
      " 5   photos_count                 300 non-null    int64  \n",
      " 6   host_id                      300 non-null    int64  \n",
      " 7   host_name                    296 non-null    object \n",
      " 8   cohost_ids                   75 non-null     object \n",
      " 9   cohost_names                 75 non-null     object \n",
      " 10  superhost                    300 non-null    bool   \n",
      " 11  latitude                     300 non-null    float64\n",
      " 12  longitude                    300 non-null    float64\n",
      " 13  guests                       258 non-null    float64\n",
      " 14  bedrooms                     249 non-null    float64\n",
      " 15  beds                         297 non-null    float64\n",
      " 16  baths                        300 non-null    float64\n",
      " 17  registration                 297 non-null    object \n",
      " 18  amenities                    300 non-null    object \n",
      " 19  instant_book                 277 non-null    object \n",
      " 20  min_nights                   298 non-null    float64\n",
      " 21  cancellation_policy          299 non-null    object \n",
      " 22  currency                     300 non-null    object \n",
      " 23  cleaning_fee                 298 non-null    float64\n",
      " 24  extra_guest_fee              279 non-null    float64\n",
      " 25  num_reviews                  300 non-null    int64  \n",
      " 26  rating_overall               290 non-null    float64\n",
      " 27  rating_accuracy              290 non-null    float64\n",
      " 28  rating_checkin               290 non-null    float64\n",
      " 29  rating_cleanliness           290 non-null    float64\n",
      " 30  rating_communication         290 non-null    float64\n",
      " 31  rating_location              290 non-null    float64\n",
      " 32  rating_value                 290 non-null    float64\n",
      " 33  ttm_revenue                  300 non-null    float64\n",
      " 34  ttm_revenue_native           300 non-null    float64\n",
      " 35  ttm_avg_rate                 300 non-null    float64\n",
      " 36  ttm_avg_rate_native          300 non-null    float64\n",
      " 37  ttm_occupancy                300 non-null    float64\n",
      " 38  ttm_adjusted_occupancy       300 non-null    float64\n",
      " 39  ttm_revpar                   300 non-null    float64\n",
      " 40  ttm_revpar_native            300 non-null    float64\n",
      " 41  ttm_adjusted_revpar          300 non-null    float64\n",
      " 42  ttm_adjusted_revpar_native   300 non-null    float64\n",
      " 43  ttm_reserved_days            300 non-null    int64  \n",
      " 44  ttm_blocked_days             300 non-null    int64  \n",
      " 45  ttm_available_days           300 non-null    int64  \n",
      " 46  ttm_total_days               300 non-null    int64  \n",
      " 47  l90d_revenue                 300 non-null    float64\n",
      " 48  l90d_revenue_native          300 non-null    float64\n",
      " 49  l90d_avg_rate                300 non-null    float64\n",
      " 50  l90d_avg_rate_native         300 non-null    float64\n",
      " 51  l90d_occupancy               300 non-null    float64\n",
      " 52  l90d_adjusted_occupancy      300 non-null    float64\n",
      " 53  l90d_revpar                  300 non-null    float64\n",
      " 54  l90d_revpar_native           300 non-null    float64\n",
      " 55  l90d_adjusted_revpar         300 non-null    float64\n",
      " 56  l90d_adjusted_revpar_native  300 non-null    float64\n",
      " 57  l90d_reserved_days           300 non-null    int64  \n",
      " 58  l90d_blocked_days            300 non-null    int64  \n",
      " 59  l90d_available_days          300 non-null    int64  \n",
      " 60  l90d_total_days              300 non-null    int64  \n",
      "dtypes: bool(1), float64(36), int64(12), object(12)\n",
      "memory usage: 141.0+ KB\n"
     ]
    }
   ],
   "source": [
    "df_listings.info()"
   ]
  },
  {
   "cell_type": "code",
   "execution_count": 4,
   "id": "a3812983",
   "metadata": {},
   "outputs": [
    {
     "name": "stdout",
     "output_type": "stream",
     "text": [
      "(3542, 14)\n"
     ]
    },
    {
     "data": {
      "application/vnd.microsoft.datawrangler.viewer.v0+json": {
       "columns": [
        {
         "name": "index",
         "rawType": "int64",
         "type": "integer"
        },
        {
         "name": "listing_id",
         "rawType": "int64",
         "type": "integer"
        },
        {
         "name": "date",
         "rawType": "object",
         "type": "string"
        },
        {
         "name": "vacant_days",
         "rawType": "int64",
         "type": "integer"
        },
        {
         "name": "reserved_days",
         "rawType": "int64",
         "type": "integer"
        },
        {
         "name": "occupancy",
         "rawType": "float64",
         "type": "float"
        },
        {
         "name": "revenue",
         "rawType": "float64",
         "type": "float"
        },
        {
         "name": "rate_avg",
         "rawType": "float64",
         "type": "float"
        },
        {
         "name": "booked_rate_avg",
         "rawType": "float64",
         "type": "float"
        },
        {
         "name": "booking_lead_time_avg",
         "rawType": "float64",
         "type": "float"
        },
        {
         "name": "length_of_stay_avg",
         "rawType": "float64",
         "type": "float"
        },
        {
         "name": "min_nights_avg",
         "rawType": "float64",
         "type": "float"
        },
        {
         "name": "native_booked_rate_avg",
         "rawType": "float64",
         "type": "float"
        },
        {
         "name": "native_rate_avg",
         "rawType": "float64",
         "type": "float"
        },
        {
         "name": "native_revenue",
         "rawType": "float64",
         "type": "float"
        }
       ],
       "ref": "279d6bd7-0486-49ac-a797-a87a1eac22cc",
       "rows": [
        [
         "0",
         "21520917",
         "2024-12-01",
         "22",
         "9",
         "0.29",
         "345.0",
         "37.6",
         "38.3",
         "5.0",
         "9.0",
         null,
         "4960.0",
         "4869.0",
         "44680.0"
        ],
        [
         "1",
         "39875956",
         "2025-08-01",
         "31",
         "0",
         "0.0",
         "0.0",
         "69.1",
         null,
         null,
         null,
         "1.0",
         null,
         "8928.0",
         "0.0"
        ],
        [
         "2",
         "36253079",
         "2025-04-01",
         "30",
         "0",
         "0.0",
         "0.0",
         "33.7",
         null,
         null,
         null,
         "1.0",
         null,
         "4364.0",
         "0.0"
        ],
        [
         "3",
         "40675899",
         "2024-09-01",
         "24",
         "6",
         "0.2",
         "243.0",
         "40.2",
         "40.5",
         "1.0",
         "9.0",
         null,
         "5232.0",
         "5193.0",
         "31391.0"
        ],
        [
         "4",
         "21520917",
         "2025-01-01",
         "31",
         "0",
         "0.0",
         "0.0",
         "37.2",
         null,
         null,
         null,
         "1.0",
         null,
         "4805.0",
         "0.0"
        ]
       ],
       "shape": {
        "columns": 14,
        "rows": 5
       }
      },
      "text/html": [
       "<div>\n",
       "<style scoped>\n",
       "    .dataframe tbody tr th:only-of-type {\n",
       "        vertical-align: middle;\n",
       "    }\n",
       "\n",
       "    .dataframe tbody tr th {\n",
       "        vertical-align: top;\n",
       "    }\n",
       "\n",
       "    .dataframe thead th {\n",
       "        text-align: right;\n",
       "    }\n",
       "</style>\n",
       "<table border=\"1\" class=\"dataframe\">\n",
       "  <thead>\n",
       "    <tr style=\"text-align: right;\">\n",
       "      <th></th>\n",
       "      <th>listing_id</th>\n",
       "      <th>date</th>\n",
       "      <th>vacant_days</th>\n",
       "      <th>reserved_days</th>\n",
       "      <th>occupancy</th>\n",
       "      <th>revenue</th>\n",
       "      <th>rate_avg</th>\n",
       "      <th>booked_rate_avg</th>\n",
       "      <th>booking_lead_time_avg</th>\n",
       "      <th>length_of_stay_avg</th>\n",
       "      <th>min_nights_avg</th>\n",
       "      <th>native_booked_rate_avg</th>\n",
       "      <th>native_rate_avg</th>\n",
       "      <th>native_revenue</th>\n",
       "    </tr>\n",
       "  </thead>\n",
       "  <tbody>\n",
       "    <tr>\n",
       "      <th>0</th>\n",
       "      <td>21520917</td>\n",
       "      <td>2024-12-01</td>\n",
       "      <td>22</td>\n",
       "      <td>9</td>\n",
       "      <td>0.29</td>\n",
       "      <td>345.0</td>\n",
       "      <td>37.6</td>\n",
       "      <td>38.3</td>\n",
       "      <td>5.0</td>\n",
       "      <td>9.0</td>\n",
       "      <td>NaN</td>\n",
       "      <td>4960.0</td>\n",
       "      <td>4869.0</td>\n",
       "      <td>44680.0</td>\n",
       "    </tr>\n",
       "    <tr>\n",
       "      <th>1</th>\n",
       "      <td>39875956</td>\n",
       "      <td>2025-08-01</td>\n",
       "      <td>31</td>\n",
       "      <td>0</td>\n",
       "      <td>0.00</td>\n",
       "      <td>0.0</td>\n",
       "      <td>69.1</td>\n",
       "      <td>NaN</td>\n",
       "      <td>NaN</td>\n",
       "      <td>NaN</td>\n",
       "      <td>1.0</td>\n",
       "      <td>NaN</td>\n",
       "      <td>8928.0</td>\n",
       "      <td>0.0</td>\n",
       "    </tr>\n",
       "    <tr>\n",
       "      <th>2</th>\n",
       "      <td>36253079</td>\n",
       "      <td>2025-04-01</td>\n",
       "      <td>30</td>\n",
       "      <td>0</td>\n",
       "      <td>0.00</td>\n",
       "      <td>0.0</td>\n",
       "      <td>33.7</td>\n",
       "      <td>NaN</td>\n",
       "      <td>NaN</td>\n",
       "      <td>NaN</td>\n",
       "      <td>1.0</td>\n",
       "      <td>NaN</td>\n",
       "      <td>4364.0</td>\n",
       "      <td>0.0</td>\n",
       "    </tr>\n",
       "    <tr>\n",
       "      <th>3</th>\n",
       "      <td>40675899</td>\n",
       "      <td>2024-09-01</td>\n",
       "      <td>24</td>\n",
       "      <td>6</td>\n",
       "      <td>0.20</td>\n",
       "      <td>243.0</td>\n",
       "      <td>40.2</td>\n",
       "      <td>40.5</td>\n",
       "      <td>1.0</td>\n",
       "      <td>9.0</td>\n",
       "      <td>NaN</td>\n",
       "      <td>5232.0</td>\n",
       "      <td>5193.0</td>\n",
       "      <td>31391.0</td>\n",
       "    </tr>\n",
       "    <tr>\n",
       "      <th>4</th>\n",
       "      <td>21520917</td>\n",
       "      <td>2025-01-01</td>\n",
       "      <td>31</td>\n",
       "      <td>0</td>\n",
       "      <td>0.00</td>\n",
       "      <td>0.0</td>\n",
       "      <td>37.2</td>\n",
       "      <td>NaN</td>\n",
       "      <td>NaN</td>\n",
       "      <td>NaN</td>\n",
       "      <td>1.0</td>\n",
       "      <td>NaN</td>\n",
       "      <td>4805.0</td>\n",
       "      <td>0.0</td>\n",
       "    </tr>\n",
       "  </tbody>\n",
       "</table>\n",
       "</div>"
      ],
      "text/plain": [
       "   listing_id        date  vacant_days  reserved_days  occupancy  revenue  \\\n",
       "0    21520917  2024-12-01           22              9       0.29    345.0   \n",
       "1    39875956  2025-08-01           31              0       0.00      0.0   \n",
       "2    36253079  2025-04-01           30              0       0.00      0.0   \n",
       "3    40675899  2024-09-01           24              6       0.20    243.0   \n",
       "4    21520917  2025-01-01           31              0       0.00      0.0   \n",
       "\n",
       "   rate_avg  booked_rate_avg  booking_lead_time_avg  length_of_stay_avg  \\\n",
       "0      37.6             38.3                    5.0                 9.0   \n",
       "1      69.1              NaN                    NaN                 NaN   \n",
       "2      33.7              NaN                    NaN                 NaN   \n",
       "3      40.2             40.5                    1.0                 9.0   \n",
       "4      37.2              NaN                    NaN                 NaN   \n",
       "\n",
       "   min_nights_avg  native_booked_rate_avg  native_rate_avg  native_revenue  \n",
       "0             NaN                  4960.0           4869.0         44680.0  \n",
       "1             1.0                     NaN           8928.0             0.0  \n",
       "2             1.0                     NaN           4364.0             0.0  \n",
       "3             NaN                  5232.0           5193.0         31391.0  \n",
       "4             1.0                     NaN           4805.0             0.0  "
      ]
     },
     "execution_count": 4,
     "metadata": {},
     "output_type": "execute_result"
    }
   ],
   "source": [
    "print(df_calendar.shape)\n",
    "df_calendar.head()"
   ]
  },
  {
   "cell_type": "code",
   "execution_count": 5,
   "id": "1f022fb1",
   "metadata": {},
   "outputs": [
    {
     "data": {
      "application/vnd.microsoft.datawrangler.viewer.v0+json": {
       "columns": [
        {
         "name": "index",
         "rawType": "object",
         "type": "string"
        },
        {
         "name": "0",
         "rawType": "int64",
         "type": "integer"
        }
       ],
       "ref": "7046f52a-2d24-49ed-b47e-74426d28f05c",
       "rows": [
        [
         "listing_id",
         "0"
        ],
        [
         "date",
         "0"
        ],
        [
         "vacant_days",
         "0"
        ],
        [
         "reserved_days",
         "0"
        ],
        [
         "occupancy",
         "0"
        ],
        [
         "revenue",
         "0"
        ],
        [
         "rate_avg",
         "0"
        ],
        [
         "booked_rate_avg",
         "1667"
        ],
        [
         "booking_lead_time_avg",
         "1874"
        ],
        [
         "length_of_stay_avg",
         "1874"
        ],
        [
         "min_nights_avg",
         "1162"
        ],
        [
         "native_booked_rate_avg",
         "1667"
        ],
        [
         "native_rate_avg",
         "0"
        ],
        [
         "native_revenue",
         "0"
        ]
       ],
       "shape": {
        "columns": 1,
        "rows": 14
       }
      },
      "text/plain": [
       "listing_id                   0\n",
       "date                         0\n",
       "vacant_days                  0\n",
       "reserved_days                0\n",
       "occupancy                    0\n",
       "revenue                      0\n",
       "rate_avg                     0\n",
       "booked_rate_avg           1667\n",
       "booking_lead_time_avg     1874\n",
       "length_of_stay_avg        1874\n",
       "min_nights_avg            1162\n",
       "native_booked_rate_avg    1667\n",
       "native_rate_avg              0\n",
       "native_revenue               0\n",
       "dtype: int64"
      ]
     },
     "execution_count": 5,
     "metadata": {},
     "output_type": "execute_result"
    }
   ],
   "source": [
    "df_calendar.isnull().sum()"
   ]
  },
  {
   "cell_type": "markdown",
   "id": "6077ecf8",
   "metadata": {},
   "source": [
    "### Data Cleaning & wrangling "
   ]
  },
  {
   "cell_type": "markdown",
   "id": "60224036",
   "metadata": {},
   "source": [
    "- remove duplicates\n",
    "- deal with null values\n",
    "- harmonize data type inconsistencies\n",
    "- remove unnecesary features"
   ]
  },
  {
   "cell_type": "code",
   "execution_count": null,
   "id": "eb954402",
   "metadata": {},
   "outputs": [
    {
     "name": "stdout",
     "output_type": "stream",
     "text": [
      "duplicates removed\n"
     ]
    }
   ],
   "source": [
    "# remove duplicates\n",
    "df_listings.drop_duplicates()\n",
    "df_calendar.drop_duplicates()\n",
    "print('duplicates removed')\n",
    "\n",
    "# remove columns that exceed a 50% threhold for missing values for df_Listings\n",
    "thresh = int( 0.5 * len(df_listings))\n",
    "df_listings.dropna(thresh=thresh, axis=1, inplace=True)\n",
    "print('=> features with extreme Nan_values removed')"
   ]
  },
  {
   "cell_type": "code",
   "execution_count": null,
   "id": "c517ed7f",
   "metadata": {},
   "outputs": [
    {
     "name": "stdout",
     "output_type": "stream",
     "text": [
      "(3542, 10)\n"
     ]
    }
   ],
   "source": [
    "# remove duplicates\n",
    "df_calendar.drop_duplicates()\n",
    "print('duplicates removed')\n",
    "\n",
    "# remove columns that dont meet threhold 60% for nan_values for df_calendar\n",
    "thresh= int(0.6* len(df_calendar))\n",
    "df_calendar.dropna(thresh=thresh, axis=1, inplace=True)\n",
    "print(df_calendar.shape)\n",
    "\n",
    "# convert date column to datetime format\n",
    "df_calendar['date'] = pd.to_datetime(df_calendar['date'], errors='coerce')\n",
    "df_calendar.date.dtypes"
   ]
  },
  {
   "cell_type": "code",
   "execution_count": null,
   "id": "2e21bc96",
   "metadata": {},
   "outputs": [
    {
     "data": {
      "application/vnd.microsoft.datawrangler.viewer.v0+json": {
       "columns": [
        {
         "name": "index",
         "rawType": "int64",
         "type": "integer"
        },
        {
         "name": "listing_id",
         "rawType": "int64",
         "type": "integer"
        },
        {
         "name": "listing_name",
         "rawType": "object",
         "type": "string"
        },
        {
         "name": "listing_type",
         "rawType": "object",
         "type": "string"
        },
        {
         "name": "room_type",
         "rawType": "object",
         "type": "string"
        },
        {
         "name": "photos_count",
         "rawType": "int64",
         "type": "integer"
        },
        {
         "name": "host_id",
         "rawType": "int64",
         "type": "integer"
        },
        {
         "name": "host_name",
         "rawType": "object",
         "type": "unknown"
        },
        {
         "name": "superhost",
         "rawType": "bool",
         "type": "boolean"
        },
        {
         "name": "latitude",
         "rawType": "float64",
         "type": "float"
        },
        {
         "name": "longitude",
         "rawType": "float64",
         "type": "float"
        },
        {
         "name": "guests",
         "rawType": "float64",
         "type": "float"
        },
        {
         "name": "bedrooms",
         "rawType": "float64",
         "type": "float"
        },
        {
         "name": "beds",
         "rawType": "float64",
         "type": "float"
        },
        {
         "name": "baths",
         "rawType": "float64",
         "type": "float"
        },
        {
         "name": "registration",
         "rawType": "object",
         "type": "unknown"
        },
        {
         "name": "amenities",
         "rawType": "object",
         "type": "string"
        },
        {
         "name": "instant_book",
         "rawType": "object",
         "type": "unknown"
        },
        {
         "name": "min_nights",
         "rawType": "float64",
         "type": "float"
        },
        {
         "name": "cancellation_policy",
         "rawType": "object",
         "type": "string"
        },
        {
         "name": "cleaning_fee",
         "rawType": "float64",
         "type": "float"
        },
        {
         "name": "extra_guest_fee",
         "rawType": "float64",
         "type": "float"
        },
        {
         "name": "num_reviews",
         "rawType": "int64",
         "type": "integer"
        },
        {
         "name": "rating_accuracy",
         "rawType": "float64",
         "type": "float"
        },
        {
         "name": "rating_checkin",
         "rawType": "float64",
         "type": "float"
        },
        {
         "name": "rating_cleanliness",
         "rawType": "float64",
         "type": "float"
        },
        {
         "name": "rating_communication",
         "rawType": "float64",
         "type": "float"
        },
        {
         "name": "rating_location",
         "rawType": "float64",
         "type": "float"
        },
        {
         "name": "rating_value",
         "rawType": "float64",
         "type": "float"
        },
        {
         "name": "ttm_revenue_native",
         "rawType": "float64",
         "type": "float"
        },
        {
         "name": "ttm_avg_rate_native",
         "rawType": "float64",
         "type": "float"
        },
        {
         "name": "ttm_occupancy",
         "rawType": "float64",
         "type": "float"
        },
        {
         "name": "ttm_adjusted_occupancy",
         "rawType": "float64",
         "type": "float"
        },
        {
         "name": "ttm_revpar_native",
         "rawType": "float64",
         "type": "float"
        },
        {
         "name": "ttm_adjusted_revpar_native",
         "rawType": "float64",
         "type": "float"
        },
        {
         "name": "ttm_reserved_days",
         "rawType": "int64",
         "type": "integer"
        },
        {
         "name": "ttm_blocked_days",
         "rawType": "int64",
         "type": "integer"
        },
        {
         "name": "ttm_available_days",
         "rawType": "int64",
         "type": "integer"
        },
        {
         "name": "ttm_total_days",
         "rawType": "int64",
         "type": "integer"
        },
        {
         "name": "l90d_revenue_native",
         "rawType": "float64",
         "type": "float"
        },
        {
         "name": "l90d_avg_rate_native",
         "rawType": "float64",
         "type": "float"
        },
        {
         "name": "l90d_occupancy",
         "rawType": "float64",
         "type": "float"
        },
        {
         "name": "l90d_adjusted_occupancy",
         "rawType": "float64",
         "type": "float"
        },
        {
         "name": "l90d_revpar_native",
         "rawType": "float64",
         "type": "float"
        },
        {
         "name": "l90d_adjusted_revpar_native",
         "rawType": "float64",
         "type": "float"
        },
        {
         "name": "l90d_reserved_days",
         "rawType": "int64",
         "type": "integer"
        },
        {
         "name": "l90d_blocked_days",
         "rawType": "int64",
         "type": "integer"
        },
        {
         "name": "l90d_available_days",
         "rawType": "int64",
         "type": "integer"
        },
        {
         "name": "l90d_total_days",
         "rawType": "int64",
         "type": "integer"
        }
       ],
       "ref": "799b3242-a655-49d7-853b-579d34f85f10",
       "rows": [
        [
         "0",
         "471581",
         "Located In a Serene Environment",
         "Entire cottage",
         "entire_home",
         "37",
         "2280941",
         "Bella",
         "True",
         "-1.2268",
         "36.8577",
         "3.0",
         "2.0",
         "2.0",
         "1.0",
         "False",
         "TV,Wifi,Kitchen,Free parking on premises,Hot water,Body soap,Resort access,Mosquito net,Bed linens,Extra pillows and blankets,Outdoor furniture,Microwave,Refrigerator,Dishes and silverware,Cooking basics,Oven,Stove,Washer,Backyard,Essentials,Shampoo,Hangers,Iron,Dedicated workspace",
         "False",
         "2.0",
         "Moderate",
         "3617.46",
         "0.0",
         "80",
         "4.8",
         "4.8",
         "4.7",
         "4.9",
         "4.8",
         "4.8",
         "570748.0",
         "5388.2",
         "0.296",
         "0.4",
         "1563.7",
         "2113.9",
         "108",
         "95",
         "257",
         "365",
         "233475.0",
         "5202.7",
         "0.5",
         "0.726",
         "2594.2",
         "3765.7",
         "45",
         "28",
         "45",
         "90"
        ],
        [
         "1",
         "906958",
         "Makena's Place Karen - Flamingo Room",
         "Private room in cottage",
         "private_room",
         "29",
         "4856316",
         "Chichi",
         "True",
         "-1.324",
         "36.7053",
         null,
         null,
         "1.0",
         "0.0",
         "False",
         "Wifi,Kitchen,Free parking on premises,Smoking allowed,Hot water,Breakfast,Outdoor furniture,Microwave,Indoor fireplace,Refrigerator,Dishes and silverware,Cooking basics,Oven,Stove,Washer,Dryer,BBQ grill,Patio or balcony,Backyard,Fire extinguisher,Luggage dropoff allowed,Essentials,Long term stays allowed,Lock on bedroom door,Hangers,Hair dryer,Iron,Dedicated workspace,Outdoor dining area,Private entrance",
         "True",
         "1.0",
         "Firm",
         "0.0",
         "2583.9",
         "66",
         "4.9",
         "4.9",
         "5.0",
         "4.9",
         "4.9",
         "4.9",
         "491304.0",
         "6215.8",
         "0.222",
         "0.236",
         "1346.0",
         "1432.4",
         "81",
         "22",
         "284",
         "365",
         "67833.0",
         "6888.1",
         "0.111",
         "0.147",
         "753.7",
         "997.5",
         "10",
         "22",
         "80",
         "90"
        ],
        [
         "2",
         "1023556",
         "Home in Langata 1 km to Nairobi National Park",
         "Entire guesthouse",
         "entire_home",
         "20",
         "5634522",
         "Janet",
         "False",
         "-1.3222",
         "36.7852",
         "2.0",
         "1.0",
         "1.0",
         "1.0",
         "False",
         "TV,Blender,Wifi,Babysitter recommendations,Kitchen,Free parking on premises,Room-darkening shades,Hot water kettle,Children’s dinnerware,Portable fans,Smoking allowed,Pets allowed,Hot water,Body soap,Mini fridge,Mosquito net,Bed linens,Extra pillows and blankets,Microwave,Cleaning products,Drying rack for clothing,Dishes and silverware,Cooking basics,Coffee,Clothing storage,Stove,Wine glasses,Washer,Single level home,Backyard,Luggage dropoff allowed,Essentials,Long term stays allowed,Cleaning before checkout,Hangers,Hair dryer,Iron,Dedicated workspace,Freezer,Rice maker",
         "False",
         "1.0",
         "Moderate",
         "645.98",
         "0.0",
         "154",
         "4.9",
         "4.9",
         "4.9",
         "4.9",
         "4.7",
         "4.8",
         "28230.0",
         "3647.1",
         "0.03",
         "0.0",
         "77.3",
         "0.0",
         "11",
         "0",
         "354",
         "365",
         "10078.0",
         "2482.1",
         "0.044",
         "0.0",
         "112.0",
         "0.0",
         "4",
         "0",
         "86",
         "90"
        ],
        [
         "3",
         "1237886",
         "Hob House",
         "Room in bed and breakfast",
         "hotel_room",
         "8",
         "6748840",
         null,
         "False",
         "-1.2258",
         "36.7679",
         "2.0",
         "7.0",
         "9.0",
         "1.0",
         null,
         "Air conditioning,Kitchen,Dryer,Heating,Wifi,Free parking on premises,Hair dryer,Cable TV,Iron,Washer,TV,Breakfast,Hangers,Essentials,Indoor fireplace,Smoke alarm,Carbon monoxide alarm,First aid kit,Fire extinguisher,Shampoo,Bathtub,Baby bath,High chair,Children’s books and toys,Window guards,Fireplace guards,Babysitter recommendations,Room-darkening shades,Hot water,Bed linens,Extra pillows and blankets,Microwave,Coffee maker,Refrigerator,Dishes and silverware,Cooking basics,Oven,Stove,BBQ grill,Backyard,Luggage dropoff allowed,Long term stays allowed",
         null,
         "1.0",
         "Flexible",
         "0.0",
         "2583.9",
         "57",
         "4.8",
         "4.8",
         "4.9",
         "4.6",
         "4.7",
         "4.8",
         "223430.0",
         "14775.9",
         "0.041",
         "0.0",
         "612.1",
         "0.0",
         "15",
         "0",
         "350",
         "365",
         "80106.0",
         "15639.3",
         "0.056",
         "0.0",
         "890.1",
         "0.0",
         "5",
         "0",
         "85",
         "90"
        ],
        [
         "4",
         "1803821",
         "Makena's Place Karen - All Rooms",
         "Private room in cottage",
         "private_room",
         "58",
         "4856316",
         "Chichi",
         "True",
         "-1.3237",
         "36.7059",
         null,
         "3.0",
         "3.0",
         "0.0",
         "False",
         "Wifi,Kitchen,Free parking on premises,Smoking allowed,Hot water,Breakfast,Outdoor furniture,Microwave,Coffee maker,Indoor fireplace,Refrigerator,Dishes and silverware,Cooking basics,Oven,Stove,Washer,Dryer,BBQ grill,Patio or balcony,Backyard,Fire extinguisher,Luggage dropoff allowed,Essentials,Long term stays allowed,Lock on bedroom door,Hangers,Hair dryer,Iron,Dedicated workspace,Private entrance",
         "True",
         "1.0",
         "Firm",
         "1291.95",
         "0.0",
         "11",
         "5.0",
         "5.0",
         "5.0",
         "4.5",
         "4.9",
         "4.9",
         "642180.0",
         "16361.8",
         "0.107",
         "0.125",
         "1759.4",
         "2058.3",
         "39",
         "53",
         "326",
         "365",
         "65507.0",
         "16196.3",
         "0.044",
         "0.055",
         "727.9",
         "897.4",
         "4",
         "17",
         "86",
         "90"
        ]
       ],
       "shape": {
        "columns": 48,
        "rows": 5
       }
      },
      "text/html": [
       "<div>\n",
       "<style scoped>\n",
       "    .dataframe tbody tr th:only-of-type {\n",
       "        vertical-align: middle;\n",
       "    }\n",
       "\n",
       "    .dataframe tbody tr th {\n",
       "        vertical-align: top;\n",
       "    }\n",
       "\n",
       "    .dataframe thead th {\n",
       "        text-align: right;\n",
       "    }\n",
       "</style>\n",
       "<table border=\"1\" class=\"dataframe\">\n",
       "  <thead>\n",
       "    <tr style=\"text-align: right;\">\n",
       "      <th></th>\n",
       "      <th>listing_id</th>\n",
       "      <th>listing_name</th>\n",
       "      <th>listing_type</th>\n",
       "      <th>room_type</th>\n",
       "      <th>photos_count</th>\n",
       "      <th>host_id</th>\n",
       "      <th>host_name</th>\n",
       "      <th>superhost</th>\n",
       "      <th>latitude</th>\n",
       "      <th>longitude</th>\n",
       "      <th>...</th>\n",
       "      <th>l90d_revenue_native</th>\n",
       "      <th>l90d_avg_rate_native</th>\n",
       "      <th>l90d_occupancy</th>\n",
       "      <th>l90d_adjusted_occupancy</th>\n",
       "      <th>l90d_revpar_native</th>\n",
       "      <th>l90d_adjusted_revpar_native</th>\n",
       "      <th>l90d_reserved_days</th>\n",
       "      <th>l90d_blocked_days</th>\n",
       "      <th>l90d_available_days</th>\n",
       "      <th>l90d_total_days</th>\n",
       "    </tr>\n",
       "  </thead>\n",
       "  <tbody>\n",
       "    <tr>\n",
       "      <th>0</th>\n",
       "      <td>471581</td>\n",
       "      <td>Located In a Serene Environment</td>\n",
       "      <td>Entire cottage</td>\n",
       "      <td>entire_home</td>\n",
       "      <td>37</td>\n",
       "      <td>2280941</td>\n",
       "      <td>Bella</td>\n",
       "      <td>True</td>\n",
       "      <td>-1.2268</td>\n",
       "      <td>36.8577</td>\n",
       "      <td>...</td>\n",
       "      <td>233475.0</td>\n",
       "      <td>5202.7</td>\n",
       "      <td>0.500</td>\n",
       "      <td>0.726</td>\n",
       "      <td>2594.2</td>\n",
       "      <td>3765.7</td>\n",
       "      <td>45</td>\n",
       "      <td>28</td>\n",
       "      <td>45</td>\n",
       "      <td>90</td>\n",
       "    </tr>\n",
       "    <tr>\n",
       "      <th>1</th>\n",
       "      <td>906958</td>\n",
       "      <td>Makena's Place Karen - Flamingo Room</td>\n",
       "      <td>Private room in cottage</td>\n",
       "      <td>private_room</td>\n",
       "      <td>29</td>\n",
       "      <td>4856316</td>\n",
       "      <td>Chichi</td>\n",
       "      <td>True</td>\n",
       "      <td>-1.3240</td>\n",
       "      <td>36.7053</td>\n",
       "      <td>...</td>\n",
       "      <td>67833.0</td>\n",
       "      <td>6888.1</td>\n",
       "      <td>0.111</td>\n",
       "      <td>0.147</td>\n",
       "      <td>753.7</td>\n",
       "      <td>997.5</td>\n",
       "      <td>10</td>\n",
       "      <td>22</td>\n",
       "      <td>80</td>\n",
       "      <td>90</td>\n",
       "    </tr>\n",
       "    <tr>\n",
       "      <th>2</th>\n",
       "      <td>1023556</td>\n",
       "      <td>Home in Langata 1 km to Nairobi National Park</td>\n",
       "      <td>Entire guesthouse</td>\n",
       "      <td>entire_home</td>\n",
       "      <td>20</td>\n",
       "      <td>5634522</td>\n",
       "      <td>Janet</td>\n",
       "      <td>False</td>\n",
       "      <td>-1.3222</td>\n",
       "      <td>36.7852</td>\n",
       "      <td>...</td>\n",
       "      <td>10078.0</td>\n",
       "      <td>2482.1</td>\n",
       "      <td>0.044</td>\n",
       "      <td>0.000</td>\n",
       "      <td>112.0</td>\n",
       "      <td>0.0</td>\n",
       "      <td>4</td>\n",
       "      <td>0</td>\n",
       "      <td>86</td>\n",
       "      <td>90</td>\n",
       "    </tr>\n",
       "    <tr>\n",
       "      <th>3</th>\n",
       "      <td>1237886</td>\n",
       "      <td>Hob House</td>\n",
       "      <td>Room in bed and breakfast</td>\n",
       "      <td>hotel_room</td>\n",
       "      <td>8</td>\n",
       "      <td>6748840</td>\n",
       "      <td>NaN</td>\n",
       "      <td>False</td>\n",
       "      <td>-1.2258</td>\n",
       "      <td>36.7679</td>\n",
       "      <td>...</td>\n",
       "      <td>80106.0</td>\n",
       "      <td>15639.3</td>\n",
       "      <td>0.056</td>\n",
       "      <td>0.000</td>\n",
       "      <td>890.1</td>\n",
       "      <td>0.0</td>\n",
       "      <td>5</td>\n",
       "      <td>0</td>\n",
       "      <td>85</td>\n",
       "      <td>90</td>\n",
       "    </tr>\n",
       "    <tr>\n",
       "      <th>4</th>\n",
       "      <td>1803821</td>\n",
       "      <td>Makena's Place Karen - All Rooms</td>\n",
       "      <td>Private room in cottage</td>\n",
       "      <td>private_room</td>\n",
       "      <td>58</td>\n",
       "      <td>4856316</td>\n",
       "      <td>Chichi</td>\n",
       "      <td>True</td>\n",
       "      <td>-1.3237</td>\n",
       "      <td>36.7059</td>\n",
       "      <td>...</td>\n",
       "      <td>65507.0</td>\n",
       "      <td>16196.3</td>\n",
       "      <td>0.044</td>\n",
       "      <td>0.055</td>\n",
       "      <td>727.9</td>\n",
       "      <td>897.4</td>\n",
       "      <td>4</td>\n",
       "      <td>17</td>\n",
       "      <td>86</td>\n",
       "      <td>90</td>\n",
       "    </tr>\n",
       "  </tbody>\n",
       "</table>\n",
       "<p>5 rows × 48 columns</p>\n",
       "</div>"
      ],
      "text/plain": [
       "   listing_id                                   listing_name  \\\n",
       "0      471581                Located In a Serene Environment   \n",
       "1      906958           Makena's Place Karen - Flamingo Room   \n",
       "2     1023556  Home in Langata 1 km to Nairobi National Park   \n",
       "3     1237886                                      Hob House   \n",
       "4     1803821               Makena's Place Karen - All Rooms   \n",
       "\n",
       "                listing_type     room_type  photos_count  host_id host_name  \\\n",
       "0             Entire cottage   entire_home            37  2280941     Bella   \n",
       "1    Private room in cottage  private_room            29  4856316    Chichi   \n",
       "2          Entire guesthouse   entire_home            20  5634522     Janet   \n",
       "3  Room in bed and breakfast    hotel_room             8  6748840       NaN   \n",
       "4    Private room in cottage  private_room            58  4856316    Chichi   \n",
       "\n",
       "   superhost  latitude  longitude  ...  l90d_revenue_native  \\\n",
       "0       True   -1.2268    36.8577  ...             233475.0   \n",
       "1       True   -1.3240    36.7053  ...              67833.0   \n",
       "2      False   -1.3222    36.7852  ...              10078.0   \n",
       "3      False   -1.2258    36.7679  ...              80106.0   \n",
       "4       True   -1.3237    36.7059  ...              65507.0   \n",
       "\n",
       "   l90d_avg_rate_native  l90d_occupancy  l90d_adjusted_occupancy  \\\n",
       "0                5202.7           0.500                    0.726   \n",
       "1                6888.1           0.111                    0.147   \n",
       "2                2482.1           0.044                    0.000   \n",
       "3               15639.3           0.056                    0.000   \n",
       "4               16196.3           0.044                    0.055   \n",
       "\n",
       "  l90d_revpar_native l90d_adjusted_revpar_native l90d_reserved_days  \\\n",
       "0             2594.2                      3765.7                 45   \n",
       "1              753.7                       997.5                 10   \n",
       "2              112.0                         0.0                  4   \n",
       "3              890.1                         0.0                  5   \n",
       "4              727.9                       897.4                  4   \n",
       "\n",
       "   l90d_blocked_days l90d_available_days  l90d_total_days  \n",
       "0                 28                  45               90  \n",
       "1                 22                  80               90  \n",
       "2                  0                  86               90  \n",
       "3                  0                  85               90  \n",
       "4                 17                  86               90  \n",
       "\n",
       "[5 rows x 48 columns]"
      ]
     },
     "execution_count": 7,
     "metadata": {},
     "output_type": "execute_result"
    }
   ],
   "source": [
    "# feature selection and manipulation in df_listings\n",
    "    # calculate average exchange rates to use during \n",
    "rate = (df_listings.ttm_avg_rate_native / df_listings.ttm_avg_rate).mean()\n",
    "\n",
    "    # convert cleaning_fee and extra_guest_fee from USD to KSH using the average exchange rate\n",
    "df_listings.loc[:, 'cleaning_fee'] = round(df_listings['cleaning_fee'] * rate, 2)\n",
    "df_listings.loc[:, 'extra_guest_fee'] = round(df_listings['extra_guest_fee'] * rate, 2)\n",
    "\n",
    "    # drop some irrelevant columns and columns in USD currency\n",
    "df_listings.drop(columns = ['cover_photo_url' ,'rating_overall','ttm_revenue', 'ttm_avg_rate','ttm_revpar', 'ttm_adjusted_revpar', 'l90d_revenue', \n",
    "                           'l90d_avg_rate', 'l90d_revpar', 'l90d_adjusted_revpar','currency' ], inplace=True)\n",
    "\n",
    "    # Check remaining missing values\n",
    "df_listings.head()"
   ]
  },
  {
   "cell_type": "code",
   "execution_count": 20,
   "id": "e0585d41",
   "metadata": {},
   "outputs": [
    {
     "data": {
      "application/vnd.microsoft.datawrangler.viewer.v0+json": {
       "columns": [
        {
         "name": "index",
         "rawType": "int64",
         "type": "integer"
        },
        {
         "name": "listing_id",
         "rawType": "int64",
         "type": "integer"
        },
        {
         "name": "listing_name",
         "rawType": "object",
         "type": "string"
        },
        {
         "name": "listing_type",
         "rawType": "object",
         "type": "string"
        },
        {
         "name": "room_type",
         "rawType": "object",
         "type": "string"
        },
        {
         "name": "photos_count",
         "rawType": "int64",
         "type": "integer"
        },
        {
         "name": "host_id",
         "rawType": "int64",
         "type": "integer"
        },
        {
         "name": "host_name",
         "rawType": "object",
         "type": "unknown"
        },
        {
         "name": "superhost",
         "rawType": "bool",
         "type": "boolean"
        },
        {
         "name": "latitude",
         "rawType": "float64",
         "type": "float"
        },
        {
         "name": "longitude",
         "rawType": "float64",
         "type": "float"
        },
        {
         "name": "guests",
         "rawType": "float64",
         "type": "float"
        },
        {
         "name": "bedrooms",
         "rawType": "float64",
         "type": "float"
        },
        {
         "name": "beds",
         "rawType": "float64",
         "type": "float"
        },
        {
         "name": "baths",
         "rawType": "float64",
         "type": "float"
        },
        {
         "name": "registration",
         "rawType": "object",
         "type": "unknown"
        },
        {
         "name": "amenities",
         "rawType": "object",
         "type": "string"
        },
        {
         "name": "instant_book",
         "rawType": "object",
         "type": "unknown"
        },
        {
         "name": "min_nights",
         "rawType": "float64",
         "type": "float"
        },
        {
         "name": "cancellation_policy",
         "rawType": "object",
         "type": "string"
        },
        {
         "name": "cleaning_fee",
         "rawType": "float64",
         "type": "float"
        },
        {
         "name": "extra_guest_fee",
         "rawType": "float64",
         "type": "float"
        },
        {
         "name": "total_reviews",
         "rawType": "int64",
         "type": "integer"
        },
        {
         "name": "rating_accuracy",
         "rawType": "float64",
         "type": "float"
        },
        {
         "name": "rating_checkin",
         "rawType": "float64",
         "type": "float"
        },
        {
         "name": "rating_cleanliness",
         "rawType": "float64",
         "type": "float"
        },
        {
         "name": "rating_communication",
         "rawType": "float64",
         "type": "float"
        },
        {
         "name": "rating_location",
         "rawType": "float64",
         "type": "float"
        },
        {
         "name": "rating_value",
         "rawType": "float64",
         "type": "float"
        },
        {
         "name": "total_ttm_revenue",
         "rawType": "float64",
         "type": "float"
        },
        {
         "name": "daily_avg_ttm_rate",
         "rawType": "float64",
         "type": "float"
        },
        {
         "name": "ttm_occupancy",
         "rawType": "float64",
         "type": "float"
        },
        {
         "name": "ttm_adjusted_occupancy",
         "rawType": "float64",
         "type": "float"
        },
        {
         "name": "ttm_revpar",
         "rawType": "float64",
         "type": "float"
        },
        {
         "name": "ttm_adjusted_revpar",
         "rawType": "float64",
         "type": "float"
        },
        {
         "name": "ttm_reserved_days",
         "rawType": "int64",
         "type": "integer"
        },
        {
         "name": "ttm_blocked_days",
         "rawType": "int64",
         "type": "integer"
        },
        {
         "name": "ttm_available_days",
         "rawType": "int64",
         "type": "integer"
        },
        {
         "name": "l90d_revenue",
         "rawType": "float64",
         "type": "float"
        },
        {
         "name": "l90d_avg_rate",
         "rawType": "float64",
         "type": "float"
        },
        {
         "name": "l90d_occupancy",
         "rawType": "float64",
         "type": "float"
        },
        {
         "name": "l90d_adjusted_occupancy",
         "rawType": "float64",
         "type": "float"
        },
        {
         "name": "l90d_revpar",
         "rawType": "float64",
         "type": "float"
        },
        {
         "name": "l90d_adjusted_revpar",
         "rawType": "float64",
         "type": "float"
        },
        {
         "name": "l90d_reserved_days",
         "rawType": "int64",
         "type": "integer"
        },
        {
         "name": "l90d_blocked_days",
         "rawType": "int64",
         "type": "integer"
        },
        {
         "name": "l90d_available_days",
         "rawType": "int64",
         "type": "integer"
        }
       ],
       "ref": "145fc356-1603-4237-8979-7d8a4f0d3ff2",
       "rows": [
        [
         "0",
         "471581",
         "Located In a Serene Environment",
         "Entire cottage",
         "entire_home",
         "37",
         "2280941",
         "Bella",
         "True",
         "-1.2268",
         "36.8577",
         "3.0",
         "2.0",
         "2.0",
         "1.0",
         "False",
         "TV,Wifi,Kitchen,Free parking on premises,Hot water,Body soap,Resort access,Mosquito net,Bed linens,Extra pillows and blankets,Outdoor furniture,Microwave,Refrigerator,Dishes and silverware,Cooking basics,Oven,Stove,Washer,Backyard,Essentials,Shampoo,Hangers,Iron,Dedicated workspace",
         "False",
         "2.0",
         "Moderate",
         "3617.46",
         "0.0",
         "80",
         "4.8",
         "4.8",
         "4.7",
         "4.9",
         "4.8",
         "4.8",
         "570748.0",
         "5388.2",
         "0.296",
         "0.4",
         "1563.7",
         "2113.9",
         "108",
         "95",
         "257",
         "233475.0",
         "5202.7",
         "0.5",
         "0.726",
         "2594.2",
         "3765.7",
         "45",
         "28",
         "45"
        ],
        [
         "1",
         "906958",
         "Makena's Place Karen - Flamingo Room",
         "Private room in cottage",
         "private_room",
         "29",
         "4856316",
         "Chichi",
         "True",
         "-1.324",
         "36.7053",
         null,
         null,
         "1.0",
         "0.0",
         "False",
         "Wifi,Kitchen,Free parking on premises,Smoking allowed,Hot water,Breakfast,Outdoor furniture,Microwave,Indoor fireplace,Refrigerator,Dishes and silverware,Cooking basics,Oven,Stove,Washer,Dryer,BBQ grill,Patio or balcony,Backyard,Fire extinguisher,Luggage dropoff allowed,Essentials,Long term stays allowed,Lock on bedroom door,Hangers,Hair dryer,Iron,Dedicated workspace,Outdoor dining area,Private entrance",
         "True",
         "1.0",
         "Firm",
         "0.0",
         "2583.9",
         "66",
         "4.9",
         "4.9",
         "5.0",
         "4.9",
         "4.9",
         "4.9",
         "491304.0",
         "6215.8",
         "0.222",
         "0.236",
         "1346.0",
         "1432.4",
         "81",
         "22",
         "284",
         "67833.0",
         "6888.1",
         "0.111",
         "0.147",
         "753.7",
         "997.5",
         "10",
         "22",
         "80"
        ],
        [
         "2",
         "1023556",
         "Home in Langata 1 km to Nairobi National Park",
         "Entire guesthouse",
         "entire_home",
         "20",
         "5634522",
         "Janet",
         "False",
         "-1.3222",
         "36.7852",
         "2.0",
         "1.0",
         "1.0",
         "1.0",
         "False",
         "TV,Blender,Wifi,Babysitter recommendations,Kitchen,Free parking on premises,Room-darkening shades,Hot water kettle,Children’s dinnerware,Portable fans,Smoking allowed,Pets allowed,Hot water,Body soap,Mini fridge,Mosquito net,Bed linens,Extra pillows and blankets,Microwave,Cleaning products,Drying rack for clothing,Dishes and silverware,Cooking basics,Coffee,Clothing storage,Stove,Wine glasses,Washer,Single level home,Backyard,Luggage dropoff allowed,Essentials,Long term stays allowed,Cleaning before checkout,Hangers,Hair dryer,Iron,Dedicated workspace,Freezer,Rice maker",
         "False",
         "1.0",
         "Moderate",
         "645.98",
         "0.0",
         "154",
         "4.9",
         "4.9",
         "4.9",
         "4.9",
         "4.7",
         "4.8",
         "28230.0",
         "3647.1",
         "0.03",
         "0.0",
         "77.3",
         "0.0",
         "11",
         "0",
         "354",
         "10078.0",
         "2482.1",
         "0.044",
         "0.0",
         "112.0",
         "0.0",
         "4",
         "0",
         "86"
        ],
        [
         "3",
         "1237886",
         "Hob House",
         "Room in bed and breakfast",
         "hotel_room",
         "8",
         "6748840",
         null,
         "False",
         "-1.2258",
         "36.7679",
         "2.0",
         "7.0",
         "9.0",
         "1.0",
         null,
         "Air conditioning,Kitchen,Dryer,Heating,Wifi,Free parking on premises,Hair dryer,Cable TV,Iron,Washer,TV,Breakfast,Hangers,Essentials,Indoor fireplace,Smoke alarm,Carbon monoxide alarm,First aid kit,Fire extinguisher,Shampoo,Bathtub,Baby bath,High chair,Children’s books and toys,Window guards,Fireplace guards,Babysitter recommendations,Room-darkening shades,Hot water,Bed linens,Extra pillows and blankets,Microwave,Coffee maker,Refrigerator,Dishes and silverware,Cooking basics,Oven,Stove,BBQ grill,Backyard,Luggage dropoff allowed,Long term stays allowed",
         null,
         "1.0",
         "Flexible",
         "0.0",
         "2583.9",
         "57",
         "4.8",
         "4.8",
         "4.9",
         "4.6",
         "4.7",
         "4.8",
         "223430.0",
         "14775.9",
         "0.041",
         "0.0",
         "612.1",
         "0.0",
         "15",
         "0",
         "350",
         "80106.0",
         "15639.3",
         "0.056",
         "0.0",
         "890.1",
         "0.0",
         "5",
         "0",
         "85"
        ],
        [
         "4",
         "1803821",
         "Makena's Place Karen - All Rooms",
         "Private room in cottage",
         "private_room",
         "58",
         "4856316",
         "Chichi",
         "True",
         "-1.3237",
         "36.7059",
         null,
         "3.0",
         "3.0",
         "0.0",
         "False",
         "Wifi,Kitchen,Free parking on premises,Smoking allowed,Hot water,Breakfast,Outdoor furniture,Microwave,Coffee maker,Indoor fireplace,Refrigerator,Dishes and silverware,Cooking basics,Oven,Stove,Washer,Dryer,BBQ grill,Patio or balcony,Backyard,Fire extinguisher,Luggage dropoff allowed,Essentials,Long term stays allowed,Lock on bedroom door,Hangers,Hair dryer,Iron,Dedicated workspace,Private entrance",
         "True",
         "1.0",
         "Firm",
         "1291.95",
         "0.0",
         "11",
         "5.0",
         "5.0",
         "5.0",
         "4.5",
         "4.9",
         "4.9",
         "642180.0",
         "16361.8",
         "0.107",
         "0.125",
         "1759.4",
         "2058.3",
         "39",
         "53",
         "326",
         "65507.0",
         "16196.3",
         "0.044",
         "0.055",
         "727.9",
         "897.4",
         "4",
         "17",
         "86"
        ]
       ],
       "shape": {
        "columns": 46,
        "rows": 5
       }
      },
      "text/html": [
       "<div>\n",
       "<style scoped>\n",
       "    .dataframe tbody tr th:only-of-type {\n",
       "        vertical-align: middle;\n",
       "    }\n",
       "\n",
       "    .dataframe tbody tr th {\n",
       "        vertical-align: top;\n",
       "    }\n",
       "\n",
       "    .dataframe thead th {\n",
       "        text-align: right;\n",
       "    }\n",
       "</style>\n",
       "<table border=\"1\" class=\"dataframe\">\n",
       "  <thead>\n",
       "    <tr style=\"text-align: right;\">\n",
       "      <th></th>\n",
       "      <th>listing_id</th>\n",
       "      <th>listing_name</th>\n",
       "      <th>listing_type</th>\n",
       "      <th>room_type</th>\n",
       "      <th>photos_count</th>\n",
       "      <th>host_id</th>\n",
       "      <th>host_name</th>\n",
       "      <th>superhost</th>\n",
       "      <th>latitude</th>\n",
       "      <th>longitude</th>\n",
       "      <th>...</th>\n",
       "      <th>ttm_available_days</th>\n",
       "      <th>l90d_revenue</th>\n",
       "      <th>l90d_avg_rate</th>\n",
       "      <th>l90d_occupancy</th>\n",
       "      <th>l90d_adjusted_occupancy</th>\n",
       "      <th>l90d_revpar</th>\n",
       "      <th>l90d_adjusted_revpar</th>\n",
       "      <th>l90d_reserved_days</th>\n",
       "      <th>l90d_blocked_days</th>\n",
       "      <th>l90d_available_days</th>\n",
       "    </tr>\n",
       "  </thead>\n",
       "  <tbody>\n",
       "    <tr>\n",
       "      <th>0</th>\n",
       "      <td>471581</td>\n",
       "      <td>Located In a Serene Environment</td>\n",
       "      <td>Entire cottage</td>\n",
       "      <td>entire_home</td>\n",
       "      <td>37</td>\n",
       "      <td>2280941</td>\n",
       "      <td>Bella</td>\n",
       "      <td>True</td>\n",
       "      <td>-1.2268</td>\n",
       "      <td>36.8577</td>\n",
       "      <td>...</td>\n",
       "      <td>257</td>\n",
       "      <td>233475.0</td>\n",
       "      <td>5202.7</td>\n",
       "      <td>0.500</td>\n",
       "      <td>0.726</td>\n",
       "      <td>2594.2</td>\n",
       "      <td>3765.7</td>\n",
       "      <td>45</td>\n",
       "      <td>28</td>\n",
       "      <td>45</td>\n",
       "    </tr>\n",
       "    <tr>\n",
       "      <th>1</th>\n",
       "      <td>906958</td>\n",
       "      <td>Makena's Place Karen - Flamingo Room</td>\n",
       "      <td>Private room in cottage</td>\n",
       "      <td>private_room</td>\n",
       "      <td>29</td>\n",
       "      <td>4856316</td>\n",
       "      <td>Chichi</td>\n",
       "      <td>True</td>\n",
       "      <td>-1.3240</td>\n",
       "      <td>36.7053</td>\n",
       "      <td>...</td>\n",
       "      <td>284</td>\n",
       "      <td>67833.0</td>\n",
       "      <td>6888.1</td>\n",
       "      <td>0.111</td>\n",
       "      <td>0.147</td>\n",
       "      <td>753.7</td>\n",
       "      <td>997.5</td>\n",
       "      <td>10</td>\n",
       "      <td>22</td>\n",
       "      <td>80</td>\n",
       "    </tr>\n",
       "    <tr>\n",
       "      <th>2</th>\n",
       "      <td>1023556</td>\n",
       "      <td>Home in Langata 1 km to Nairobi National Park</td>\n",
       "      <td>Entire guesthouse</td>\n",
       "      <td>entire_home</td>\n",
       "      <td>20</td>\n",
       "      <td>5634522</td>\n",
       "      <td>Janet</td>\n",
       "      <td>False</td>\n",
       "      <td>-1.3222</td>\n",
       "      <td>36.7852</td>\n",
       "      <td>...</td>\n",
       "      <td>354</td>\n",
       "      <td>10078.0</td>\n",
       "      <td>2482.1</td>\n",
       "      <td>0.044</td>\n",
       "      <td>0.000</td>\n",
       "      <td>112.0</td>\n",
       "      <td>0.0</td>\n",
       "      <td>4</td>\n",
       "      <td>0</td>\n",
       "      <td>86</td>\n",
       "    </tr>\n",
       "    <tr>\n",
       "      <th>3</th>\n",
       "      <td>1237886</td>\n",
       "      <td>Hob House</td>\n",
       "      <td>Room in bed and breakfast</td>\n",
       "      <td>hotel_room</td>\n",
       "      <td>8</td>\n",
       "      <td>6748840</td>\n",
       "      <td>NaN</td>\n",
       "      <td>False</td>\n",
       "      <td>-1.2258</td>\n",
       "      <td>36.7679</td>\n",
       "      <td>...</td>\n",
       "      <td>350</td>\n",
       "      <td>80106.0</td>\n",
       "      <td>15639.3</td>\n",
       "      <td>0.056</td>\n",
       "      <td>0.000</td>\n",
       "      <td>890.1</td>\n",
       "      <td>0.0</td>\n",
       "      <td>5</td>\n",
       "      <td>0</td>\n",
       "      <td>85</td>\n",
       "    </tr>\n",
       "    <tr>\n",
       "      <th>4</th>\n",
       "      <td>1803821</td>\n",
       "      <td>Makena's Place Karen - All Rooms</td>\n",
       "      <td>Private room in cottage</td>\n",
       "      <td>private_room</td>\n",
       "      <td>58</td>\n",
       "      <td>4856316</td>\n",
       "      <td>Chichi</td>\n",
       "      <td>True</td>\n",
       "      <td>-1.3237</td>\n",
       "      <td>36.7059</td>\n",
       "      <td>...</td>\n",
       "      <td>326</td>\n",
       "      <td>65507.0</td>\n",
       "      <td>16196.3</td>\n",
       "      <td>0.044</td>\n",
       "      <td>0.055</td>\n",
       "      <td>727.9</td>\n",
       "      <td>897.4</td>\n",
       "      <td>4</td>\n",
       "      <td>17</td>\n",
       "      <td>86</td>\n",
       "    </tr>\n",
       "  </tbody>\n",
       "</table>\n",
       "<p>5 rows × 46 columns</p>\n",
       "</div>"
      ],
      "text/plain": [
       "   listing_id                                   listing_name  \\\n",
       "0      471581                Located In a Serene Environment   \n",
       "1      906958           Makena's Place Karen - Flamingo Room   \n",
       "2     1023556  Home in Langata 1 km to Nairobi National Park   \n",
       "3     1237886                                      Hob House   \n",
       "4     1803821               Makena's Place Karen - All Rooms   \n",
       "\n",
       "                listing_type     room_type  photos_count  host_id host_name  \\\n",
       "0             Entire cottage   entire_home            37  2280941     Bella   \n",
       "1    Private room in cottage  private_room            29  4856316    Chichi   \n",
       "2          Entire guesthouse   entire_home            20  5634522     Janet   \n",
       "3  Room in bed and breakfast    hotel_room             8  6748840       NaN   \n",
       "4    Private room in cottage  private_room            58  4856316    Chichi   \n",
       "\n",
       "   superhost  latitude  longitude  ...  ttm_available_days  l90d_revenue  \\\n",
       "0       True   -1.2268    36.8577  ...                 257      233475.0   \n",
       "1       True   -1.3240    36.7053  ...                 284       67833.0   \n",
       "2      False   -1.3222    36.7852  ...                 354       10078.0   \n",
       "3      False   -1.2258    36.7679  ...                 350       80106.0   \n",
       "4       True   -1.3237    36.7059  ...                 326       65507.0   \n",
       "\n",
       "   l90d_avg_rate  l90d_occupancy l90d_adjusted_occupancy l90d_revpar  \\\n",
       "0         5202.7           0.500                   0.726      2594.2   \n",
       "1         6888.1           0.111                   0.147       753.7   \n",
       "2         2482.1           0.044                   0.000       112.0   \n",
       "3        15639.3           0.056                   0.000       890.1   \n",
       "4        16196.3           0.044                   0.055       727.9   \n",
       "\n",
       "  l90d_adjusted_revpar  l90d_reserved_days l90d_blocked_days  \\\n",
       "0               3765.7                  45                28   \n",
       "1                997.5                  10                22   \n",
       "2                  0.0                   4                 0   \n",
       "3                  0.0                   5                 0   \n",
       "4                897.4                   4                17   \n",
       "\n",
       "   l90d_available_days  \n",
       "0                   45  \n",
       "1                   80  \n",
       "2                   86  \n",
       "3                   85  \n",
       "4                   86  \n",
       "\n",
       "[5 rows x 46 columns]"
      ]
     },
     "execution_count": 20,
     "metadata": {},
     "output_type": "execute_result"
    }
   ],
   "source": [
    "# rename some cols for easier referrencing \n",
    "df_listings.rename(columns= {'num_reviews':'total_reviews','ttm_revenue_native':'total_ttm_revenue', 'ttm_avg_rate_native': 'daily_avg_ttm_rate',\n",
    "                             'ttm_revpar_native':'ttm_revpar', 'ttm_adjusted_revpar_native':'ttm_adjusted_revpar', 'l90d_revenue_native':'l90d_revenue',\n",
    "                             'l90d_avg_rate_native':'l90d_avg_rate','l90d_revpar_native':'l90d_revpar', 'l90d_adjusted_revpar_native':'l90d_adjusted_revpar',\n",
    "                             }, inplace=True)\n",
    "df_listings.head()"
   ]
  },
  {
   "cell_type": "code",
   "execution_count": null,
   "id": "019e4900",
   "metadata": {},
   "outputs": [
    {
     "name": "stdout",
     "output_type": "stream",
     "text": [
      "(3542, 8)\n"
     ]
    },
    {
     "data": {
      "application/vnd.microsoft.datawrangler.viewer.v0+json": {
       "columns": [
        {
         "name": "index",
         "rawType": "int64",
         "type": "integer"
        },
        {
         "name": "listing_id",
         "rawType": "int64",
         "type": "integer"
        },
        {
         "name": "date",
         "rawType": "datetime64[ns]",
         "type": "datetime"
        },
        {
         "name": "vacant_days",
         "rawType": "int64",
         "type": "integer"
        },
        {
         "name": "reserved_days",
         "rawType": "int64",
         "type": "integer"
        },
        {
         "name": "occupancy",
         "rawType": "float64",
         "type": "float"
        },
        {
         "name": "min_nights_avg",
         "rawType": "float64",
         "type": "float"
        },
        {
         "name": "native_rate_avg",
         "rawType": "float64",
         "type": "float"
        },
        {
         "name": "native_revenue",
         "rawType": "float64",
         "type": "float"
        }
       ],
       "ref": "4b77aa07-25b3-4ac3-8c00-be58c9907a5d",
       "rows": [
        [
         "0",
         "21520917",
         "2024-12-01 00:00:00",
         "22",
         "9",
         "0.29",
         null,
         "4869.0",
         "44680.0"
        ],
        [
         "1",
         "39875956",
         "2025-08-01 00:00:00",
         "31",
         "0",
         "0.0",
         "1.0",
         "8928.0",
         "0.0"
        ]
       ],
       "shape": {
        "columns": 8,
        "rows": 2
       }
      },
      "text/html": [
       "<div>\n",
       "<style scoped>\n",
       "    .dataframe tbody tr th:only-of-type {\n",
       "        vertical-align: middle;\n",
       "    }\n",
       "\n",
       "    .dataframe tbody tr th {\n",
       "        vertical-align: top;\n",
       "    }\n",
       "\n",
       "    .dataframe thead th {\n",
       "        text-align: right;\n",
       "    }\n",
       "</style>\n",
       "<table border=\"1\" class=\"dataframe\">\n",
       "  <thead>\n",
       "    <tr style=\"text-align: right;\">\n",
       "      <th></th>\n",
       "      <th>listing_id</th>\n",
       "      <th>date</th>\n",
       "      <th>vacant_days</th>\n",
       "      <th>reserved_days</th>\n",
       "      <th>occupancy</th>\n",
       "      <th>min_nights_avg</th>\n",
       "      <th>native_rate_avg</th>\n",
       "      <th>native_revenue</th>\n",
       "    </tr>\n",
       "  </thead>\n",
       "  <tbody>\n",
       "    <tr>\n",
       "      <th>0</th>\n",
       "      <td>21520917</td>\n",
       "      <td>2024-12-01</td>\n",
       "      <td>22</td>\n",
       "      <td>9</td>\n",
       "      <td>0.29</td>\n",
       "      <td>NaN</td>\n",
       "      <td>4869.0</td>\n",
       "      <td>44680.0</td>\n",
       "    </tr>\n",
       "    <tr>\n",
       "      <th>1</th>\n",
       "      <td>39875956</td>\n",
       "      <td>2025-08-01</td>\n",
       "      <td>31</td>\n",
       "      <td>0</td>\n",
       "      <td>0.00</td>\n",
       "      <td>1.0</td>\n",
       "      <td>8928.0</td>\n",
       "      <td>0.0</td>\n",
       "    </tr>\n",
       "  </tbody>\n",
       "</table>\n",
       "</div>"
      ],
      "text/plain": [
       "   listing_id       date  vacant_days  reserved_days  occupancy  \\\n",
       "0    21520917 2024-12-01           22              9       0.29   \n",
       "1    39875956 2025-08-01           31              0       0.00   \n",
       "\n",
       "   min_nights_avg  native_rate_avg  native_revenue  \n",
       "0             NaN           4869.0         44680.0  \n",
       "1             1.0           8928.0             0.0  "
      ]
     },
     "execution_count": 8,
     "metadata": {},
     "output_type": "execute_result"
    }
   ],
   "source": [
    "# feature manipulation and wrangling in df_calendar\n",
    "df_calendar.drop(columns=['revenue', 'rate_avg'], inplace=True)\n",
    "df_calendar.rename(columns={'occupancy':'occupancy_rate', 'native_rate_avg':'rate_avg', 'native_revenue':'revenue'}\n",
    "                   , inplace=True)\n",
    "print(df_calendar.shape)\n",
    "df_calendar.head(2)"
   ]
  },
  {
   "cell_type": "markdown",
   "id": "16e42be6",
   "metadata": {},
   "source": [
    "### Exploratory data analysis"
   ]
  },
  {
   "cell_type": "code",
   "execution_count": null,
   "id": "2417efe3",
   "metadata": {},
   "outputs": [
    {
     "data": {
      "application/vnd.microsoft.datawrangler.viewer.v0+json": {
       "columns": [
        {
         "name": "index",
         "rawType": "object",
         "type": "string"
        },
        {
         "name": "0",
         "rawType": "int64",
         "type": "integer"
        }
       ],
       "ref": "d4eaa864-1968-4929-8761-a4c79bd15c23",
       "rows": [
        [
         "listing_id",
         "300"
        ],
        [
         "listing_name",
         "299"
        ],
        [
         "listing_type",
         "29"
        ],
        [
         "room_type",
         "3"
        ],
        [
         "photos_count",
         "64"
        ],
        [
         "host_id",
         "204"
        ],
        [
         "host_name",
         "167"
        ],
        [
         "superhost",
         "2"
        ],
        [
         "latitude",
         "247"
        ],
        [
         "longitude",
         "247"
        ],
        [
         "guests",
         "11"
        ],
        [
         "bedrooms",
         "9"
        ],
        [
         "beds",
         "12"
        ],
        [
         "baths",
         "12"
        ],
        [
         "registration",
         "2"
        ],
        [
         "amenities",
         "297"
        ],
        [
         "instant_book",
         "2"
        ],
        [
         "min_nights",
         "9"
        ],
        [
         "cancellation_policy",
         "4"
        ],
        [
         "cleaning_fee",
         "29"
        ],
        [
         "extra_guest_fee",
         "20"
        ],
        [
         "total_reviews",
         "124"
        ],
        [
         "rating_accuracy",
         "12"
        ],
        [
         "rating_checkin",
         "8"
        ],
        [
         "rating_cleanliness",
         "11"
        ],
        [
         "rating_communication",
         "9"
        ],
        [
         "rating_location",
         "11"
        ],
        [
         "rating_value",
         "11"
        ],
        [
         "total_ttm_revenue",
         "300"
        ],
        [
         "daily_avg_ttm_rate",
         "300"
        ],
        [
         "ttm_occupancy",
         "141"
        ],
        [
         "ttm_adjusted_occupancy",
         "157"
        ],
        [
         "ttm_revpar",
         "300"
        ],
        [
         "ttm_adjusted_revpar",
         "185"
        ],
        [
         "ttm_reserved_days",
         "141"
        ],
        [
         "ttm_blocked_days",
         "115"
        ],
        [
         "ttm_available_days",
         "141"
        ],
        [
         "l90d_revenue",
         "207"
        ],
        [
         "l90d_avg_rate",
         "289"
        ],
        [
         "l90d_occupancy",
         "59"
        ],
        [
         "l90d_adjusted_occupancy",
         "77"
        ],
        [
         "l90d_revpar",
         "203"
        ],
        [
         "l90d_adjusted_revpar",
         "81"
        ],
        [
         "l90d_reserved_days",
         "59"
        ],
        [
         "l90d_blocked_days",
         "52"
        ],
        [
         "l90d_available_days",
         "59"
        ]
       ],
       "shape": {
        "columns": 1,
        "rows": 46
       }
      },
      "text/plain": [
       "listing_id                 300\n",
       "listing_name               299\n",
       "listing_type                29\n",
       "room_type                    3\n",
       "photos_count                64\n",
       "host_id                    204\n",
       "host_name                  167\n",
       "superhost                    2\n",
       "latitude                   247\n",
       "longitude                  247\n",
       "guests                      11\n",
       "bedrooms                     9\n",
       "beds                        12\n",
       "baths                       12\n",
       "registration                 2\n",
       "amenities                  297\n",
       "instant_book                 2\n",
       "min_nights                   9\n",
       "cancellation_policy          4\n",
       "cleaning_fee                29\n",
       "extra_guest_fee             20\n",
       "total_reviews              124\n",
       "rating_accuracy             12\n",
       "rating_checkin               8\n",
       "rating_cleanliness          11\n",
       "rating_communication         9\n",
       "rating_location             11\n",
       "rating_value                11\n",
       "total_ttm_revenue          300\n",
       "daily_avg_ttm_rate         300\n",
       "ttm_occupancy              141\n",
       "ttm_adjusted_occupancy     157\n",
       "ttm_revpar                 300\n",
       "ttm_adjusted_revpar        185\n",
       "ttm_reserved_days          141\n",
       "ttm_blocked_days           115\n",
       "ttm_available_days         141\n",
       "l90d_revenue               207\n",
       "l90d_avg_rate              289\n",
       "l90d_occupancy              59\n",
       "l90d_adjusted_occupancy     77\n",
       "l90d_revpar                203\n",
       "l90d_adjusted_revpar        81\n",
       "l90d_reserved_days          59\n",
       "l90d_blocked_days           52\n",
       "l90d_available_days         59\n",
       "dtype: int64"
      ]
     },
     "execution_count": 22,
     "metadata": {},
     "output_type": "execute_result"
    }
   ],
   "source": [
    "df_listings.nunique()"
   ]
  },
  {
   "cell_type": "code",
   "execution_count": null,
   "id": "c733abdc",
   "metadata": {},
   "outputs": [
    {
     "data": {
      "application/vnd.microsoft.datawrangler.viewer.v0+json": {
       "columns": [
        {
         "name": "index",
         "rawType": "object",
         "type": "string"
        },
        {
         "name": "count",
         "rawType": "float64",
         "type": "float"
        },
        {
         "name": "mean",
         "rawType": "float64",
         "type": "float"
        },
        {
         "name": "std",
         "rawType": "float64",
         "type": "float"
        },
        {
         "name": "min",
         "rawType": "float64",
         "type": "float"
        },
        {
         "name": "25%",
         "rawType": "float64",
         "type": "float"
        },
        {
         "name": "50%",
         "rawType": "float64",
         "type": "float"
        },
        {
         "name": "75%",
         "rawType": "float64",
         "type": "float"
        },
        {
         "name": "max",
         "rawType": "float64",
         "type": "float"
        }
       ],
       "ref": "321395a3-4eaa-4cad-8d86-46e5479d9f7b",
       "rows": [
        [
         "photos_count",
         "300.0",
         "30.266666666666666",
         "16.281046150911678",
         "0.0",
         "19.0",
         "28.0",
         "37.0",
         "122.0"
        ],
        [
         "guests",
         "258.0",
         "3.5852713178294575",
         "2.265134169420795",
         "1.0",
         "2.0",
         "3.0",
         "4.0",
         "16.0"
        ],
        [
         "bedrooms",
         "249.0",
         "2.068273092369478",
         "1.5834824797987224",
         "1.0",
         "1.0",
         "2.0",
         "3.0",
         "15.0"
        ],
        [
         "beds",
         "297.0",
         "2.1952861952861955",
         "2.044003590493588",
         "1.0",
         "1.0",
         "2.0",
         "3.0",
         "19.0"
        ],
        [
         "baths",
         "300.0",
         "1.4566666666666668",
         "1.1694790119622882",
         "0.0",
         "1.0",
         "1.0",
         "2.0",
         "8.5"
        ],
        [
         "min_nights",
         "298.0",
         "2.197986577181208",
         "3.4540362335750796",
         "1.0",
         "1.0",
         "2.0",
         "2.0",
         "30.0"
        ],
        [
         "cleaning_fee",
         "298.0",
         "955.090234899329",
         "1880.4969971816056",
         "0.0",
         "0.0",
         "0.0",
         "1291.95",
         "16278.58"
        ],
        [
         "extra_guest_fee",
         "279.0",
         "488.99681003584226",
         "1465.5133930296033",
         "0.0",
         "0.0",
         "0.0",
         "0.0",
         "12919.51"
        ],
        [
         "num_reviews",
         "300.0",
         "59.513333333333335",
         "73.9592888706781",
         "1.0",
         "19.0",
         "39.0",
         "77.0",
         "686.0"
        ],
        [
         "rating_accuracy",
         "290.0",
         "4.801724137931035",
         "0.1836682914491676",
         "3.9",
         "4.7",
         "4.8",
         "4.9",
         "5.0"
        ],
        [
         "rating_checkin",
         "290.0",
         "4.868275862068965",
         "0.12294171025826262",
         "4.3",
         "4.8",
         "4.9",
         "5.0",
         "5.0"
        ],
        [
         "rating_cleanliness",
         "290.0",
         "4.801724137931035",
         "0.1743910604816023",
         "3.9",
         "4.7",
         "4.8",
         "4.9",
         "5.0"
        ],
        [
         "rating_communication",
         "290.0",
         "4.861034482758621",
         "0.15574010885377892",
         "3.7",
         "4.8",
         "4.9",
         "5.0",
         "5.0"
        ],
        [
         "rating_location",
         "290.0",
         "4.8310344827586205",
         "0.17029071067578855",
         "3.6",
         "4.8",
         "4.9",
         "4.9",
         "5.0"
        ],
        [
         "rating_value",
         "290.0",
         "4.773793103448275",
         "0.19332125034415112",
         "3.0",
         "4.7",
         "4.8",
         "4.9",
         "5.0"
        ],
        [
         "ttm_revenue_native",
         "300.0",
         "535014.27",
         "877960.4794222622",
         "19040.0",
         "130055.5",
         "283388.5",
         "661735.75",
         "11621324.0"
        ],
        [
         "ttm_avg_rate_native",
         "300.0",
         "7268.4546666666665",
         "6777.674952500357",
         "1277.7",
         "4156.875",
         "6011.9",
         "8655.074999999999",
         "90205.6"
        ],
        [
         "ttm_occupancy",
         "300.0",
         "0.2038866666666667",
         "0.183912642366686",
         "0.027",
         "0.058",
         "0.152",
         "0.2835",
         "0.888"
        ],
        [
         "ttm_adjusted_occupancy",
         "300.0",
         "0.15664666666666666",
         "0.19511082989426545",
         "0.0",
         "0.0",
         "0.0765",
         "0.259",
         "0.914"
        ],
        [
         "ttm_revpar_native",
         "300.0",
         "1465.7903333333334",
         "2405.370147974968",
         "52.2",
         "356.325",
         "776.4",
         "1812.9499999999998",
         "31839.2"
        ],
        [
         "ttm_adjusted_revpar_native",
         "300.0",
         "1064.7463333333335",
         "2344.4156187412423",
         "0.0",
         "0.0",
         "403.55",
         "1506.975",
         "35109.7"
        ],
        [
         "ttm_reserved_days",
         "300.0",
         "74.41333333333333",
         "67.1251700213131",
         "10.0",
         "21.0",
         "55.5",
         "103.5",
         "324.0"
        ],
        [
         "ttm_blocked_days",
         "300.0",
         "40.04",
         "51.67565168034777",
         "0.0",
         "0.0",
         "20.5",
         "63.0",
         "245.0"
        ],
        [
         "ttm_available_days",
         "300.0",
         "290.58666666666664",
         "67.1251700213131",
         "41.0",
         "261.5",
         "309.5",
         "344.0",
         "355.0"
        ],
        [
         "l90d_revenue_native",
         "300.0",
         "120408.26",
         "287641.4023344847",
         "0.0",
         "0.0",
         "43089.5",
         "149876.5",
         "4292144.0"
        ],
        [
         "l90d_avg_rate_native",
         "300.0",
         "7074.241666666667",
         "6591.538184406239",
         "0.0",
         "3901.125",
         "6018.7",
         "8538.475",
         "84609.7"
        ],
        [
         "l90d_occupancy",
         "300.0",
         "0.16644333333333333",
         "0.20574641043505942",
         "0.0",
         "0.0",
         "0.078",
         "0.244",
         "0.944"
        ],
        [
         "l90d_adjusted_occupancy",
         "300.0",
         "0.08947000000000001",
         "0.191721219099094",
         "0.0",
         "0.0",
         "0.0",
         "0.05825",
         "0.923"
        ],
        [
         "l90d_revpar_native",
         "300.0",
         "1337.8706666666665",
         "3196.017070153924",
         "0.0",
         "0.0",
         "478.75",
         "1665.325",
         "47690.5"
        ],
        [
         "l90d_adjusted_revpar_native",
         "300.0",
         "598.2966666666666",
         "1431.2447097262182",
         "0.0",
         "0.0",
         "0.0",
         "358.15",
         "9809.4"
        ],
        [
         "l90d_reserved_days",
         "300.0",
         "14.98",
         "18.517087832756534",
         "0.0",
         "0.0",
         "7.0",
         "22.0",
         "85.0"
        ],
        [
         "l90d_blocked_days",
         "300.0",
         "12.76",
         "22.58130756854033",
         "0.0",
         "0.0",
         "0.0",
         "21.0",
         "90.0"
        ],
        [
         "l90d_available_days",
         "300.0",
         "75.02",
         "18.517087832756534",
         "5.0",
         "68.0",
         "83.0",
         "90.0",
         "90.0"
        ]
       ],
       "shape": {
        "columns": 8,
        "rows": 33
       }
      },
      "text/html": [
       "<div>\n",
       "<style scoped>\n",
       "    .dataframe tbody tr th:only-of-type {\n",
       "        vertical-align: middle;\n",
       "    }\n",
       "\n",
       "    .dataframe tbody tr th {\n",
       "        vertical-align: top;\n",
       "    }\n",
       "\n",
       "    .dataframe thead th {\n",
       "        text-align: right;\n",
       "    }\n",
       "</style>\n",
       "<table border=\"1\" class=\"dataframe\">\n",
       "  <thead>\n",
       "    <tr style=\"text-align: right;\">\n",
       "      <th></th>\n",
       "      <th>count</th>\n",
       "      <th>mean</th>\n",
       "      <th>std</th>\n",
       "      <th>min</th>\n",
       "      <th>25%</th>\n",
       "      <th>50%</th>\n",
       "      <th>75%</th>\n",
       "      <th>max</th>\n",
       "    </tr>\n",
       "  </thead>\n",
       "  <tbody>\n",
       "    <tr>\n",
       "      <th>photos_count</th>\n",
       "      <td>300.0</td>\n",
       "      <td>30.266667</td>\n",
       "      <td>16.281046</td>\n",
       "      <td>0.000</td>\n",
       "      <td>19.000</td>\n",
       "      <td>28.0000</td>\n",
       "      <td>37.00000</td>\n",
       "      <td>1.220000e+02</td>\n",
       "    </tr>\n",
       "    <tr>\n",
       "      <th>guests</th>\n",
       "      <td>258.0</td>\n",
       "      <td>3.585271</td>\n",
       "      <td>2.265134</td>\n",
       "      <td>1.000</td>\n",
       "      <td>2.000</td>\n",
       "      <td>3.0000</td>\n",
       "      <td>4.00000</td>\n",
       "      <td>1.600000e+01</td>\n",
       "    </tr>\n",
       "    <tr>\n",
       "      <th>bedrooms</th>\n",
       "      <td>249.0</td>\n",
       "      <td>2.068273</td>\n",
       "      <td>1.583482</td>\n",
       "      <td>1.000</td>\n",
       "      <td>1.000</td>\n",
       "      <td>2.0000</td>\n",
       "      <td>3.00000</td>\n",
       "      <td>1.500000e+01</td>\n",
       "    </tr>\n",
       "    <tr>\n",
       "      <th>beds</th>\n",
       "      <td>297.0</td>\n",
       "      <td>2.195286</td>\n",
       "      <td>2.044004</td>\n",
       "      <td>1.000</td>\n",
       "      <td>1.000</td>\n",
       "      <td>2.0000</td>\n",
       "      <td>3.00000</td>\n",
       "      <td>1.900000e+01</td>\n",
       "    </tr>\n",
       "    <tr>\n",
       "      <th>baths</th>\n",
       "      <td>300.0</td>\n",
       "      <td>1.456667</td>\n",
       "      <td>1.169479</td>\n",
       "      <td>0.000</td>\n",
       "      <td>1.000</td>\n",
       "      <td>1.0000</td>\n",
       "      <td>2.00000</td>\n",
       "      <td>8.500000e+00</td>\n",
       "    </tr>\n",
       "    <tr>\n",
       "      <th>min_nights</th>\n",
       "      <td>298.0</td>\n",
       "      <td>2.197987</td>\n",
       "      <td>3.454036</td>\n",
       "      <td>1.000</td>\n",
       "      <td>1.000</td>\n",
       "      <td>2.0000</td>\n",
       "      <td>2.00000</td>\n",
       "      <td>3.000000e+01</td>\n",
       "    </tr>\n",
       "    <tr>\n",
       "      <th>cleaning_fee</th>\n",
       "      <td>298.0</td>\n",
       "      <td>955.090235</td>\n",
       "      <td>1880.496997</td>\n",
       "      <td>0.000</td>\n",
       "      <td>0.000</td>\n",
       "      <td>0.0000</td>\n",
       "      <td>1291.95000</td>\n",
       "      <td>1.627858e+04</td>\n",
       "    </tr>\n",
       "    <tr>\n",
       "      <th>extra_guest_fee</th>\n",
       "      <td>279.0</td>\n",
       "      <td>488.996810</td>\n",
       "      <td>1465.513393</td>\n",
       "      <td>0.000</td>\n",
       "      <td>0.000</td>\n",
       "      <td>0.0000</td>\n",
       "      <td>0.00000</td>\n",
       "      <td>1.291951e+04</td>\n",
       "    </tr>\n",
       "    <tr>\n",
       "      <th>num_reviews</th>\n",
       "      <td>300.0</td>\n",
       "      <td>59.513333</td>\n",
       "      <td>73.959289</td>\n",
       "      <td>1.000</td>\n",
       "      <td>19.000</td>\n",
       "      <td>39.0000</td>\n",
       "      <td>77.00000</td>\n",
       "      <td>6.860000e+02</td>\n",
       "    </tr>\n",
       "    <tr>\n",
       "      <th>rating_accuracy</th>\n",
       "      <td>290.0</td>\n",
       "      <td>4.801724</td>\n",
       "      <td>0.183668</td>\n",
       "      <td>3.900</td>\n",
       "      <td>4.700</td>\n",
       "      <td>4.8000</td>\n",
       "      <td>4.90000</td>\n",
       "      <td>5.000000e+00</td>\n",
       "    </tr>\n",
       "    <tr>\n",
       "      <th>rating_checkin</th>\n",
       "      <td>290.0</td>\n",
       "      <td>4.868276</td>\n",
       "      <td>0.122942</td>\n",
       "      <td>4.300</td>\n",
       "      <td>4.800</td>\n",
       "      <td>4.9000</td>\n",
       "      <td>5.00000</td>\n",
       "      <td>5.000000e+00</td>\n",
       "    </tr>\n",
       "    <tr>\n",
       "      <th>rating_cleanliness</th>\n",
       "      <td>290.0</td>\n",
       "      <td>4.801724</td>\n",
       "      <td>0.174391</td>\n",
       "      <td>3.900</td>\n",
       "      <td>4.700</td>\n",
       "      <td>4.8000</td>\n",
       "      <td>4.90000</td>\n",
       "      <td>5.000000e+00</td>\n",
       "    </tr>\n",
       "    <tr>\n",
       "      <th>rating_communication</th>\n",
       "      <td>290.0</td>\n",
       "      <td>4.861034</td>\n",
       "      <td>0.155740</td>\n",
       "      <td>3.700</td>\n",
       "      <td>4.800</td>\n",
       "      <td>4.9000</td>\n",
       "      <td>5.00000</td>\n",
       "      <td>5.000000e+00</td>\n",
       "    </tr>\n",
       "    <tr>\n",
       "      <th>rating_location</th>\n",
       "      <td>290.0</td>\n",
       "      <td>4.831034</td>\n",
       "      <td>0.170291</td>\n",
       "      <td>3.600</td>\n",
       "      <td>4.800</td>\n",
       "      <td>4.9000</td>\n",
       "      <td>4.90000</td>\n",
       "      <td>5.000000e+00</td>\n",
       "    </tr>\n",
       "    <tr>\n",
       "      <th>rating_value</th>\n",
       "      <td>290.0</td>\n",
       "      <td>4.773793</td>\n",
       "      <td>0.193321</td>\n",
       "      <td>3.000</td>\n",
       "      <td>4.700</td>\n",
       "      <td>4.8000</td>\n",
       "      <td>4.90000</td>\n",
       "      <td>5.000000e+00</td>\n",
       "    </tr>\n",
       "    <tr>\n",
       "      <th>ttm_revenue_native</th>\n",
       "      <td>300.0</td>\n",
       "      <td>535014.270000</td>\n",
       "      <td>877960.479422</td>\n",
       "      <td>19040.000</td>\n",
       "      <td>130055.500</td>\n",
       "      <td>283388.5000</td>\n",
       "      <td>661735.75000</td>\n",
       "      <td>1.162132e+07</td>\n",
       "    </tr>\n",
       "    <tr>\n",
       "      <th>ttm_avg_rate_native</th>\n",
       "      <td>300.0</td>\n",
       "      <td>7268.454667</td>\n",
       "      <td>6777.674953</td>\n",
       "      <td>1277.700</td>\n",
       "      <td>4156.875</td>\n",
       "      <td>6011.9000</td>\n",
       "      <td>8655.07500</td>\n",
       "      <td>9.020560e+04</td>\n",
       "    </tr>\n",
       "    <tr>\n",
       "      <th>ttm_occupancy</th>\n",
       "      <td>300.0</td>\n",
       "      <td>0.203887</td>\n",
       "      <td>0.183913</td>\n",
       "      <td>0.027</td>\n",
       "      <td>0.058</td>\n",
       "      <td>0.1520</td>\n",
       "      <td>0.28350</td>\n",
       "      <td>8.880000e-01</td>\n",
       "    </tr>\n",
       "    <tr>\n",
       "      <th>ttm_adjusted_occupancy</th>\n",
       "      <td>300.0</td>\n",
       "      <td>0.156647</td>\n",
       "      <td>0.195111</td>\n",
       "      <td>0.000</td>\n",
       "      <td>0.000</td>\n",
       "      <td>0.0765</td>\n",
       "      <td>0.25900</td>\n",
       "      <td>9.140000e-01</td>\n",
       "    </tr>\n",
       "    <tr>\n",
       "      <th>ttm_revpar_native</th>\n",
       "      <td>300.0</td>\n",
       "      <td>1465.790333</td>\n",
       "      <td>2405.370148</td>\n",
       "      <td>52.200</td>\n",
       "      <td>356.325</td>\n",
       "      <td>776.4000</td>\n",
       "      <td>1812.95000</td>\n",
       "      <td>3.183920e+04</td>\n",
       "    </tr>\n",
       "    <tr>\n",
       "      <th>ttm_adjusted_revpar_native</th>\n",
       "      <td>300.0</td>\n",
       "      <td>1064.746333</td>\n",
       "      <td>2344.415619</td>\n",
       "      <td>0.000</td>\n",
       "      <td>0.000</td>\n",
       "      <td>403.5500</td>\n",
       "      <td>1506.97500</td>\n",
       "      <td>3.510970e+04</td>\n",
       "    </tr>\n",
       "    <tr>\n",
       "      <th>ttm_reserved_days</th>\n",
       "      <td>300.0</td>\n",
       "      <td>74.413333</td>\n",
       "      <td>67.125170</td>\n",
       "      <td>10.000</td>\n",
       "      <td>21.000</td>\n",
       "      <td>55.5000</td>\n",
       "      <td>103.50000</td>\n",
       "      <td>3.240000e+02</td>\n",
       "    </tr>\n",
       "    <tr>\n",
       "      <th>ttm_blocked_days</th>\n",
       "      <td>300.0</td>\n",
       "      <td>40.040000</td>\n",
       "      <td>51.675652</td>\n",
       "      <td>0.000</td>\n",
       "      <td>0.000</td>\n",
       "      <td>20.5000</td>\n",
       "      <td>63.00000</td>\n",
       "      <td>2.450000e+02</td>\n",
       "    </tr>\n",
       "    <tr>\n",
       "      <th>ttm_available_days</th>\n",
       "      <td>300.0</td>\n",
       "      <td>290.586667</td>\n",
       "      <td>67.125170</td>\n",
       "      <td>41.000</td>\n",
       "      <td>261.500</td>\n",
       "      <td>309.5000</td>\n",
       "      <td>344.00000</td>\n",
       "      <td>3.550000e+02</td>\n",
       "    </tr>\n",
       "    <tr>\n",
       "      <th>l90d_revenue_native</th>\n",
       "      <td>300.0</td>\n",
       "      <td>120408.260000</td>\n",
       "      <td>287641.402334</td>\n",
       "      <td>0.000</td>\n",
       "      <td>0.000</td>\n",
       "      <td>43089.5000</td>\n",
       "      <td>149876.50000</td>\n",
       "      <td>4.292144e+06</td>\n",
       "    </tr>\n",
       "    <tr>\n",
       "      <th>l90d_avg_rate_native</th>\n",
       "      <td>300.0</td>\n",
       "      <td>7074.241667</td>\n",
       "      <td>6591.538184</td>\n",
       "      <td>0.000</td>\n",
       "      <td>3901.125</td>\n",
       "      <td>6018.7000</td>\n",
       "      <td>8538.47500</td>\n",
       "      <td>8.460970e+04</td>\n",
       "    </tr>\n",
       "    <tr>\n",
       "      <th>l90d_occupancy</th>\n",
       "      <td>300.0</td>\n",
       "      <td>0.166443</td>\n",
       "      <td>0.205746</td>\n",
       "      <td>0.000</td>\n",
       "      <td>0.000</td>\n",
       "      <td>0.0780</td>\n",
       "      <td>0.24400</td>\n",
       "      <td>9.440000e-01</td>\n",
       "    </tr>\n",
       "    <tr>\n",
       "      <th>l90d_adjusted_occupancy</th>\n",
       "      <td>300.0</td>\n",
       "      <td>0.089470</td>\n",
       "      <td>0.191721</td>\n",
       "      <td>0.000</td>\n",
       "      <td>0.000</td>\n",
       "      <td>0.0000</td>\n",
       "      <td>0.05825</td>\n",
       "      <td>9.230000e-01</td>\n",
       "    </tr>\n",
       "    <tr>\n",
       "      <th>l90d_revpar_native</th>\n",
       "      <td>300.0</td>\n",
       "      <td>1337.870667</td>\n",
       "      <td>3196.017070</td>\n",
       "      <td>0.000</td>\n",
       "      <td>0.000</td>\n",
       "      <td>478.7500</td>\n",
       "      <td>1665.32500</td>\n",
       "      <td>4.769050e+04</td>\n",
       "    </tr>\n",
       "    <tr>\n",
       "      <th>l90d_adjusted_revpar_native</th>\n",
       "      <td>300.0</td>\n",
       "      <td>598.296667</td>\n",
       "      <td>1431.244710</td>\n",
       "      <td>0.000</td>\n",
       "      <td>0.000</td>\n",
       "      <td>0.0000</td>\n",
       "      <td>358.15000</td>\n",
       "      <td>9.809400e+03</td>\n",
       "    </tr>\n",
       "    <tr>\n",
       "      <th>l90d_reserved_days</th>\n",
       "      <td>300.0</td>\n",
       "      <td>14.980000</td>\n",
       "      <td>18.517088</td>\n",
       "      <td>0.000</td>\n",
       "      <td>0.000</td>\n",
       "      <td>7.0000</td>\n",
       "      <td>22.00000</td>\n",
       "      <td>8.500000e+01</td>\n",
       "    </tr>\n",
       "    <tr>\n",
       "      <th>l90d_blocked_days</th>\n",
       "      <td>300.0</td>\n",
       "      <td>12.760000</td>\n",
       "      <td>22.581308</td>\n",
       "      <td>0.000</td>\n",
       "      <td>0.000</td>\n",
       "      <td>0.0000</td>\n",
       "      <td>21.00000</td>\n",
       "      <td>9.000000e+01</td>\n",
       "    </tr>\n",
       "    <tr>\n",
       "      <th>l90d_available_days</th>\n",
       "      <td>300.0</td>\n",
       "      <td>75.020000</td>\n",
       "      <td>18.517088</td>\n",
       "      <td>5.000</td>\n",
       "      <td>68.000</td>\n",
       "      <td>83.0000</td>\n",
       "      <td>90.00000</td>\n",
       "      <td>9.000000e+01</td>\n",
       "    </tr>\n",
       "  </tbody>\n",
       "</table>\n",
       "</div>"
      ],
      "text/plain": [
       "                             count           mean            std        min  \\\n",
       "photos_count                 300.0      30.266667      16.281046      0.000   \n",
       "guests                       258.0       3.585271       2.265134      1.000   \n",
       "bedrooms                     249.0       2.068273       1.583482      1.000   \n",
       "beds                         297.0       2.195286       2.044004      1.000   \n",
       "baths                        300.0       1.456667       1.169479      0.000   \n",
       "min_nights                   298.0       2.197987       3.454036      1.000   \n",
       "cleaning_fee                 298.0     955.090235    1880.496997      0.000   \n",
       "extra_guest_fee              279.0     488.996810    1465.513393      0.000   \n",
       "num_reviews                  300.0      59.513333      73.959289      1.000   \n",
       "rating_accuracy              290.0       4.801724       0.183668      3.900   \n",
       "rating_checkin               290.0       4.868276       0.122942      4.300   \n",
       "rating_cleanliness           290.0       4.801724       0.174391      3.900   \n",
       "rating_communication         290.0       4.861034       0.155740      3.700   \n",
       "rating_location              290.0       4.831034       0.170291      3.600   \n",
       "rating_value                 290.0       4.773793       0.193321      3.000   \n",
       "ttm_revenue_native           300.0  535014.270000  877960.479422  19040.000   \n",
       "ttm_avg_rate_native          300.0    7268.454667    6777.674953   1277.700   \n",
       "ttm_occupancy                300.0       0.203887       0.183913      0.027   \n",
       "ttm_adjusted_occupancy       300.0       0.156647       0.195111      0.000   \n",
       "ttm_revpar_native            300.0    1465.790333    2405.370148     52.200   \n",
       "ttm_adjusted_revpar_native   300.0    1064.746333    2344.415619      0.000   \n",
       "ttm_reserved_days            300.0      74.413333      67.125170     10.000   \n",
       "ttm_blocked_days             300.0      40.040000      51.675652      0.000   \n",
       "ttm_available_days           300.0     290.586667      67.125170     41.000   \n",
       "l90d_revenue_native          300.0  120408.260000  287641.402334      0.000   \n",
       "l90d_avg_rate_native         300.0    7074.241667    6591.538184      0.000   \n",
       "l90d_occupancy               300.0       0.166443       0.205746      0.000   \n",
       "l90d_adjusted_occupancy      300.0       0.089470       0.191721      0.000   \n",
       "l90d_revpar_native           300.0    1337.870667    3196.017070      0.000   \n",
       "l90d_adjusted_revpar_native  300.0     598.296667    1431.244710      0.000   \n",
       "l90d_reserved_days           300.0      14.980000      18.517088      0.000   \n",
       "l90d_blocked_days            300.0      12.760000      22.581308      0.000   \n",
       "l90d_available_days          300.0      75.020000      18.517088      5.000   \n",
       "\n",
       "                                    25%          50%           75%  \\\n",
       "photos_count                     19.000      28.0000      37.00000   \n",
       "guests                            2.000       3.0000       4.00000   \n",
       "bedrooms                          1.000       2.0000       3.00000   \n",
       "beds                              1.000       2.0000       3.00000   \n",
       "baths                             1.000       1.0000       2.00000   \n",
       "min_nights                        1.000       2.0000       2.00000   \n",
       "cleaning_fee                      0.000       0.0000    1291.95000   \n",
       "extra_guest_fee                   0.000       0.0000       0.00000   \n",
       "num_reviews                      19.000      39.0000      77.00000   \n",
       "rating_accuracy                   4.700       4.8000       4.90000   \n",
       "rating_checkin                    4.800       4.9000       5.00000   \n",
       "rating_cleanliness                4.700       4.8000       4.90000   \n",
       "rating_communication              4.800       4.9000       5.00000   \n",
       "rating_location                   4.800       4.9000       4.90000   \n",
       "rating_value                      4.700       4.8000       4.90000   \n",
       "ttm_revenue_native           130055.500  283388.5000  661735.75000   \n",
       "ttm_avg_rate_native            4156.875    6011.9000    8655.07500   \n",
       "ttm_occupancy                     0.058       0.1520       0.28350   \n",
       "ttm_adjusted_occupancy            0.000       0.0765       0.25900   \n",
       "ttm_revpar_native               356.325     776.4000    1812.95000   \n",
       "ttm_adjusted_revpar_native        0.000     403.5500    1506.97500   \n",
       "ttm_reserved_days                21.000      55.5000     103.50000   \n",
       "ttm_blocked_days                  0.000      20.5000      63.00000   \n",
       "ttm_available_days              261.500     309.5000     344.00000   \n",
       "l90d_revenue_native               0.000   43089.5000  149876.50000   \n",
       "l90d_avg_rate_native           3901.125    6018.7000    8538.47500   \n",
       "l90d_occupancy                    0.000       0.0780       0.24400   \n",
       "l90d_adjusted_occupancy           0.000       0.0000       0.05825   \n",
       "l90d_revpar_native                0.000     478.7500    1665.32500   \n",
       "l90d_adjusted_revpar_native       0.000       0.0000     358.15000   \n",
       "l90d_reserved_days                0.000       7.0000      22.00000   \n",
       "l90d_blocked_days                 0.000       0.0000      21.00000   \n",
       "l90d_available_days              68.000      83.0000      90.00000   \n",
       "\n",
       "                                      max  \n",
       "photos_count                 1.220000e+02  \n",
       "guests                       1.600000e+01  \n",
       "bedrooms                     1.500000e+01  \n",
       "beds                         1.900000e+01  \n",
       "baths                        8.500000e+00  \n",
       "min_nights                   3.000000e+01  \n",
       "cleaning_fee                 1.627858e+04  \n",
       "extra_guest_fee              1.291951e+04  \n",
       "num_reviews                  6.860000e+02  \n",
       "rating_accuracy              5.000000e+00  \n",
       "rating_checkin               5.000000e+00  \n",
       "rating_cleanliness           5.000000e+00  \n",
       "rating_communication         5.000000e+00  \n",
       "rating_location              5.000000e+00  \n",
       "rating_value                 5.000000e+00  \n",
       "ttm_revenue_native           1.162132e+07  \n",
       "ttm_avg_rate_native          9.020560e+04  \n",
       "ttm_occupancy                8.880000e-01  \n",
       "ttm_adjusted_occupancy       9.140000e-01  \n",
       "ttm_revpar_native            3.183920e+04  \n",
       "ttm_adjusted_revpar_native   3.510970e+04  \n",
       "ttm_reserved_days            3.240000e+02  \n",
       "ttm_blocked_days             2.450000e+02  \n",
       "ttm_available_days           3.550000e+02  \n",
       "l90d_revenue_native          4.292144e+06  \n",
       "l90d_avg_rate_native         8.460970e+04  \n",
       "l90d_occupancy               9.440000e-01  \n",
       "l90d_adjusted_occupancy      9.230000e-01  \n",
       "l90d_revpar_native           4.769050e+04  \n",
       "l90d_adjusted_revpar_native  9.809400e+03  \n",
       "l90d_reserved_days           8.500000e+01  \n",
       "l90d_blocked_days            9.000000e+01  \n",
       "l90d_available_days          9.000000e+01  "
      ]
     },
     "execution_count": 13,
     "metadata": {},
     "output_type": "execute_result"
    }
   ],
   "source": [
    "# summary stats for numerical features\n",
    "df_listings.drop(columns =['ttm_total_days', 'l90d_total_days'], inplace=True)\n",
    "no = ['listing_id', 'host_id','latitude', 'longitude']\n",
    "num_cols = [col for col in df_listings.select_dtypes(exclude= ['object','bool']) if col not in no ]\n",
    "df_listings[num_cols].describe().T"
   ]
  },
  {
   "cell_type": "markdown",
   "id": "62db6a50",
   "metadata": {},
   "source": [
    "**insights from the summary statistics**\n",
    "\n",
    "A typical listing:\n",
    "\n",
    "    - Has an average of 2 bedrooms, 1 bathroom and requires a minimum booking of 2 nights\n",
    "\n",
    "    - will cost on average 7,268Ksh to book per day \n",
    "\n",
    "    - has an average occupancy rate is about 15.66%\n",
    "\n",
    "    - generates on average 535,014.27 Ksh in revenue in 12 months, 90 day revenue(3months) is 120408.26 Ksh\n",
    "\n",
    "    - has  average Adjusted_Revenue_per_available_Room (RevPAR) for the past 12 months is 1,064 Ksh, approximately 1070 Ksh\n",
    "\n",
    "    - Cost on average 960 Ksh to clean which approximately translates to 1,000 Ksh \n",
    "\n",
    "    - Inlcuding an extra guest will on average cost 488 Ksh ~ 500 Ksh\n"
   ]
  },
  {
   "cell_type": "code",
   "execution_count": 14,
   "id": "2e794983",
   "metadata": {},
   "outputs": [
    {
     "data": {
      "application/vnd.microsoft.datawrangler.viewer.v0+json": {
       "columns": [
        {
         "name": "index",
         "rawType": "object",
         "type": "string"
        },
        {
         "name": "0",
         "rawType": "int64",
         "type": "integer"
        }
       ],
       "ref": "7935bcec-157f-43c6-9e45-a795f002557a",
       "rows": [
        [
         "listing_id",
         "300"
        ],
        [
         "listing_name",
         "299"
        ],
        [
         "listing_type",
         "29"
        ],
        [
         "room_type",
         "3"
        ],
        [
         "photos_count",
         "64"
        ],
        [
         "host_id",
         "204"
        ],
        [
         "host_name",
         "167"
        ],
        [
         "superhost",
         "2"
        ],
        [
         "latitude",
         "247"
        ],
        [
         "longitude",
         "247"
        ],
        [
         "guests",
         "11"
        ],
        [
         "bedrooms",
         "9"
        ],
        [
         "beds",
         "12"
        ],
        [
         "baths",
         "12"
        ],
        [
         "registration",
         "2"
        ],
        [
         "amenities",
         "297"
        ],
        [
         "instant_book",
         "2"
        ],
        [
         "min_nights",
         "9"
        ],
        [
         "cancellation_policy",
         "4"
        ],
        [
         "cleaning_fee",
         "29"
        ],
        [
         "extra_guest_fee",
         "20"
        ],
        [
         "num_reviews",
         "124"
        ],
        [
         "rating_accuracy",
         "12"
        ],
        [
         "rating_checkin",
         "8"
        ],
        [
         "rating_cleanliness",
         "11"
        ],
        [
         "rating_communication",
         "9"
        ],
        [
         "rating_location",
         "11"
        ],
        [
         "rating_value",
         "11"
        ],
        [
         "ttm_revenue_native",
         "300"
        ],
        [
         "ttm_avg_rate_native",
         "300"
        ],
        [
         "ttm_occupancy",
         "141"
        ],
        [
         "ttm_adjusted_occupancy",
         "157"
        ],
        [
         "ttm_revpar_native",
         "300"
        ],
        [
         "ttm_adjusted_revpar_native",
         "185"
        ],
        [
         "ttm_reserved_days",
         "141"
        ],
        [
         "ttm_blocked_days",
         "115"
        ],
        [
         "ttm_available_days",
         "141"
        ],
        [
         "l90d_revenue_native",
         "207"
        ],
        [
         "l90d_avg_rate_native",
         "289"
        ],
        [
         "l90d_occupancy",
         "59"
        ],
        [
         "l90d_adjusted_occupancy",
         "77"
        ],
        [
         "l90d_revpar_native",
         "203"
        ],
        [
         "l90d_adjusted_revpar_native",
         "81"
        ],
        [
         "l90d_reserved_days",
         "59"
        ],
        [
         "l90d_blocked_days",
         "52"
        ],
        [
         "l90d_available_days",
         "59"
        ]
       ],
       "shape": {
        "columns": 1,
        "rows": 46
       }
      },
      "text/plain": [
       "listing_id                     300\n",
       "listing_name                   299\n",
       "listing_type                    29\n",
       "room_type                        3\n",
       "photos_count                    64\n",
       "host_id                        204\n",
       "host_name                      167\n",
       "superhost                        2\n",
       "latitude                       247\n",
       "longitude                      247\n",
       "guests                          11\n",
       "bedrooms                         9\n",
       "beds                            12\n",
       "baths                           12\n",
       "registration                     2\n",
       "amenities                      297\n",
       "instant_book                     2\n",
       "min_nights                       9\n",
       "cancellation_policy              4\n",
       "cleaning_fee                    29\n",
       "extra_guest_fee                 20\n",
       "num_reviews                    124\n",
       "rating_accuracy                 12\n",
       "rating_checkin                   8\n",
       "rating_cleanliness              11\n",
       "rating_communication             9\n",
       "rating_location                 11\n",
       "rating_value                    11\n",
       "ttm_revenue_native             300\n",
       "ttm_avg_rate_native            300\n",
       "ttm_occupancy                  141\n",
       "ttm_adjusted_occupancy         157\n",
       "ttm_revpar_native              300\n",
       "ttm_adjusted_revpar_native     185\n",
       "ttm_reserved_days              141\n",
       "ttm_blocked_days               115\n",
       "ttm_available_days             141\n",
       "l90d_revenue_native            207\n",
       "l90d_avg_rate_native           289\n",
       "l90d_occupancy                  59\n",
       "l90d_adjusted_occupancy         77\n",
       "l90d_revpar_native             203\n",
       "l90d_adjusted_revpar_native     81\n",
       "l90d_reserved_days              59\n",
       "l90d_blocked_days               52\n",
       "l90d_available_days             59\n",
       "dtype: int64"
      ]
     },
     "execution_count": 14,
     "metadata": {},
     "output_type": "execute_result"
    }
   ],
   "source": [
    "df_listings.nunique()"
   ]
  },
  {
   "cell_type": "code",
   "execution_count": null,
   "id": "0d01e32c",
   "metadata": {},
   "outputs": [
    {
     "data": {
      "text/plain": [
       "['photos_count',\n",
       " 'guests',\n",
       " 'bedrooms',\n",
       " 'beds',\n",
       " 'baths',\n",
       " 'min_nights',\n",
       " 'cleaning_fee',\n",
       " 'extra_guest_fee',\n",
       " 'num_reviews',\n",
       " 'rating_accuracy',\n",
       " 'rating_checkin',\n",
       " 'rating_cleanliness',\n",
       " 'rating_communication',\n",
       " 'rating_location',\n",
       " 'rating_value',\n",
       " 'ttm_revenue_native',\n",
       " 'ttm_avg_rate_native',\n",
       " 'ttm_occupancy',\n",
       " 'ttm_adjusted_occupancy',\n",
       " 'ttm_revpar_native',\n",
       " 'ttm_adjusted_revpar_native',\n",
       " 'ttm_reserved_days',\n",
       " 'ttm_blocked_days',\n",
       " 'ttm_available_days',\n",
       " 'ttm_total_days',\n",
       " 'l90d_revenue_native',\n",
       " 'l90d_avg_rate_native',\n",
       " 'l90d_occupancy',\n",
       " 'l90d_adjusted_occupancy',\n",
       " 'l90d_revpar_native',\n",
       " 'l90d_adjusted_revpar_native',\n",
       " 'l90d_reserved_days',\n",
       " 'l90d_blocked_days',\n",
       " 'l90d_available_days',\n",
       " 'l90d_total_days']"
      ]
     },
     "execution_count": 10,
     "metadata": {},
     "output_type": "execute_result"
    }
   ],
   "source": [
    "'guests','bedrooms','beds','baths','min_nights','cleaning_fee'\n",
    "\n",
    "# plot countplots for this cols"
   ]
  },
  {
   "cell_type": "code",
   "execution_count": 16,
   "id": "d720110f",
   "metadata": {},
   "outputs": [
    {
     "data": {
      "application/vnd.microsoft.datawrangler.viewer.v0+json": {
       "columns": [
        {
         "name": "index",
         "rawType": "int64",
         "type": "integer"
        },
        {
         "name": "listing_id",
         "rawType": "int64",
         "type": "integer"
        },
        {
         "name": "listing_name",
         "rawType": "object",
         "type": "string"
        },
        {
         "name": "listing_type",
         "rawType": "object",
         "type": "string"
        },
        {
         "name": "room_type",
         "rawType": "object",
         "type": "string"
        },
        {
         "name": "photos_count",
         "rawType": "int64",
         "type": "integer"
        },
        {
         "name": "host_id",
         "rawType": "int64",
         "type": "integer"
        },
        {
         "name": "host_name",
         "rawType": "object",
         "type": "unknown"
        },
        {
         "name": "superhost",
         "rawType": "bool",
         "type": "boolean"
        },
        {
         "name": "latitude",
         "rawType": "float64",
         "type": "float"
        },
        {
         "name": "longitude",
         "rawType": "float64",
         "type": "float"
        },
        {
         "name": "guests",
         "rawType": "float64",
         "type": "float"
        },
        {
         "name": "bedrooms",
         "rawType": "float64",
         "type": "float"
        },
        {
         "name": "beds",
         "rawType": "float64",
         "type": "float"
        },
        {
         "name": "baths",
         "rawType": "float64",
         "type": "float"
        },
        {
         "name": "registration",
         "rawType": "object",
         "type": "unknown"
        },
        {
         "name": "amenities",
         "rawType": "object",
         "type": "string"
        },
        {
         "name": "instant_book",
         "rawType": "object",
         "type": "unknown"
        },
        {
         "name": "min_nights",
         "rawType": "float64",
         "type": "float"
        },
        {
         "name": "cancellation_policy",
         "rawType": "object",
         "type": "string"
        },
        {
         "name": "cleaning_fee",
         "rawType": "float64",
         "type": "float"
        },
        {
         "name": "extra_guest_fee",
         "rawType": "float64",
         "type": "float"
        },
        {
         "name": "num_reviews",
         "rawType": "int64",
         "type": "integer"
        },
        {
         "name": "rating_accuracy",
         "rawType": "float64",
         "type": "float"
        },
        {
         "name": "rating_checkin",
         "rawType": "float64",
         "type": "float"
        },
        {
         "name": "rating_cleanliness",
         "rawType": "float64",
         "type": "float"
        },
        {
         "name": "rating_communication",
         "rawType": "float64",
         "type": "float"
        },
        {
         "name": "rating_location",
         "rawType": "float64",
         "type": "float"
        },
        {
         "name": "rating_value",
         "rawType": "float64",
         "type": "float"
        },
        {
         "name": "ttm_revenue_native",
         "rawType": "float64",
         "type": "float"
        },
        {
         "name": "ttm_avg_rate_native",
         "rawType": "float64",
         "type": "float"
        },
        {
         "name": "ttm_occupancy",
         "rawType": "float64",
         "type": "float"
        },
        {
         "name": "ttm_adjusted_occupancy",
         "rawType": "float64",
         "type": "float"
        },
        {
         "name": "ttm_revpar_native",
         "rawType": "float64",
         "type": "float"
        },
        {
         "name": "ttm_adjusted_revpar_native",
         "rawType": "float64",
         "type": "float"
        },
        {
         "name": "ttm_reserved_days",
         "rawType": "int64",
         "type": "integer"
        },
        {
         "name": "ttm_blocked_days",
         "rawType": "int64",
         "type": "integer"
        },
        {
         "name": "ttm_available_days",
         "rawType": "int64",
         "type": "integer"
        },
        {
         "name": "l90d_revenue_native",
         "rawType": "float64",
         "type": "float"
        },
        {
         "name": "l90d_avg_rate_native",
         "rawType": "float64",
         "type": "float"
        },
        {
         "name": "l90d_occupancy",
         "rawType": "float64",
         "type": "float"
        },
        {
         "name": "l90d_adjusted_occupancy",
         "rawType": "float64",
         "type": "float"
        },
        {
         "name": "l90d_revpar_native",
         "rawType": "float64",
         "type": "float"
        },
        {
         "name": "l90d_adjusted_revpar_native",
         "rawType": "float64",
         "type": "float"
        },
        {
         "name": "l90d_reserved_days",
         "rawType": "int64",
         "type": "integer"
        },
        {
         "name": "l90d_blocked_days",
         "rawType": "int64",
         "type": "integer"
        },
        {
         "name": "l90d_available_days",
         "rawType": "int64",
         "type": "integer"
        }
       ],
       "ref": "374926f6-8e20-40c6-b4d5-572d2ee9a502",
       "rows": [
        [
         "0",
         "471581",
         "Located In a Serene Environment",
         "Entire cottage",
         "entire_home",
         "37",
         "2280941",
         "Bella",
         "True",
         "-1.2268",
         "36.8577",
         "3.0",
         "2.0",
         "2.0",
         "1.0",
         "False",
         "TV,Wifi,Kitchen,Free parking on premises,Hot water,Body soap,Resort access,Mosquito net,Bed linens,Extra pillows and blankets,Outdoor furniture,Microwave,Refrigerator,Dishes and silverware,Cooking basics,Oven,Stove,Washer,Backyard,Essentials,Shampoo,Hangers,Iron,Dedicated workspace",
         "False",
         "2.0",
         "Moderate",
         "3617.46",
         "0.0",
         "80",
         "4.8",
         "4.8",
         "4.7",
         "4.9",
         "4.8",
         "4.8",
         "570748.0",
         "5388.2",
         "0.296",
         "0.4",
         "1563.7",
         "2113.9",
         "108",
         "95",
         "257",
         "233475.0",
         "5202.7",
         "0.5",
         "0.726",
         "2594.2",
         "3765.7",
         "45",
         "28",
         "45"
        ],
        [
         "1",
         "906958",
         "Makena's Place Karen - Flamingo Room",
         "Private room in cottage",
         "private_room",
         "29",
         "4856316",
         "Chichi",
         "True",
         "-1.324",
         "36.7053",
         null,
         null,
         "1.0",
         "0.0",
         "False",
         "Wifi,Kitchen,Free parking on premises,Smoking allowed,Hot water,Breakfast,Outdoor furniture,Microwave,Indoor fireplace,Refrigerator,Dishes and silverware,Cooking basics,Oven,Stove,Washer,Dryer,BBQ grill,Patio or balcony,Backyard,Fire extinguisher,Luggage dropoff allowed,Essentials,Long term stays allowed,Lock on bedroom door,Hangers,Hair dryer,Iron,Dedicated workspace,Outdoor dining area,Private entrance",
         "True",
         "1.0",
         "Firm",
         "0.0",
         "2583.9",
         "66",
         "4.9",
         "4.9",
         "5.0",
         "4.9",
         "4.9",
         "4.9",
         "491304.0",
         "6215.8",
         "0.222",
         "0.236",
         "1346.0",
         "1432.4",
         "81",
         "22",
         "284",
         "67833.0",
         "6888.1",
         "0.111",
         "0.147",
         "753.7",
         "997.5",
         "10",
         "22",
         "80"
        ],
        [
         "2",
         "1023556",
         "Home in Langata 1 km to Nairobi National Park",
         "Entire guesthouse",
         "entire_home",
         "20",
         "5634522",
         "Janet",
         "False",
         "-1.3222",
         "36.7852",
         "2.0",
         "1.0",
         "1.0",
         "1.0",
         "False",
         "TV,Blender,Wifi,Babysitter recommendations,Kitchen,Free parking on premises,Room-darkening shades,Hot water kettle,Children’s dinnerware,Portable fans,Smoking allowed,Pets allowed,Hot water,Body soap,Mini fridge,Mosquito net,Bed linens,Extra pillows and blankets,Microwave,Cleaning products,Drying rack for clothing,Dishes and silverware,Cooking basics,Coffee,Clothing storage,Stove,Wine glasses,Washer,Single level home,Backyard,Luggage dropoff allowed,Essentials,Long term stays allowed,Cleaning before checkout,Hangers,Hair dryer,Iron,Dedicated workspace,Freezer,Rice maker",
         "False",
         "1.0",
         "Moderate",
         "645.98",
         "0.0",
         "154",
         "4.9",
         "4.9",
         "4.9",
         "4.9",
         "4.7",
         "4.8",
         "28230.0",
         "3647.1",
         "0.03",
         "0.0",
         "77.3",
         "0.0",
         "11",
         "0",
         "354",
         "10078.0",
         "2482.1",
         "0.044",
         "0.0",
         "112.0",
         "0.0",
         "4",
         "0",
         "86"
        ],
        [
         "3",
         "1237886",
         "Hob House",
         "Room in bed and breakfast",
         "hotel_room",
         "8",
         "6748840",
         null,
         "False",
         "-1.2258",
         "36.7679",
         "2.0",
         "7.0",
         "9.0",
         "1.0",
         null,
         "Air conditioning,Kitchen,Dryer,Heating,Wifi,Free parking on premises,Hair dryer,Cable TV,Iron,Washer,TV,Breakfast,Hangers,Essentials,Indoor fireplace,Smoke alarm,Carbon monoxide alarm,First aid kit,Fire extinguisher,Shampoo,Bathtub,Baby bath,High chair,Children’s books and toys,Window guards,Fireplace guards,Babysitter recommendations,Room-darkening shades,Hot water,Bed linens,Extra pillows and blankets,Microwave,Coffee maker,Refrigerator,Dishes and silverware,Cooking basics,Oven,Stove,BBQ grill,Backyard,Luggage dropoff allowed,Long term stays allowed",
         null,
         "1.0",
         "Flexible",
         "0.0",
         "2583.9",
         "57",
         "4.8",
         "4.8",
         "4.9",
         "4.6",
         "4.7",
         "4.8",
         "223430.0",
         "14775.9",
         "0.041",
         "0.0",
         "612.1",
         "0.0",
         "15",
         "0",
         "350",
         "80106.0",
         "15639.3",
         "0.056",
         "0.0",
         "890.1",
         "0.0",
         "5",
         "0",
         "85"
        ],
        [
         "4",
         "1803821",
         "Makena's Place Karen - All Rooms",
         "Private room in cottage",
         "private_room",
         "58",
         "4856316",
         "Chichi",
         "True",
         "-1.3237",
         "36.7059",
         null,
         "3.0",
         "3.0",
         "0.0",
         "False",
         "Wifi,Kitchen,Free parking on premises,Smoking allowed,Hot water,Breakfast,Outdoor furniture,Microwave,Coffee maker,Indoor fireplace,Refrigerator,Dishes and silverware,Cooking basics,Oven,Stove,Washer,Dryer,BBQ grill,Patio or balcony,Backyard,Fire extinguisher,Luggage dropoff allowed,Essentials,Long term stays allowed,Lock on bedroom door,Hangers,Hair dryer,Iron,Dedicated workspace,Private entrance",
         "True",
         "1.0",
         "Firm",
         "1291.95",
         "0.0",
         "11",
         "5.0",
         "5.0",
         "5.0",
         "4.5",
         "4.9",
         "4.9",
         "642180.0",
         "16361.8",
         "0.107",
         "0.125",
         "1759.4",
         "2058.3",
         "39",
         "53",
         "326",
         "65507.0",
         "16196.3",
         "0.044",
         "0.055",
         "727.9",
         "897.4",
         "4",
         "17",
         "86"
        ]
       ],
       "shape": {
        "columns": 46,
        "rows": 5
       }
      },
      "text/html": [
       "<div>\n",
       "<style scoped>\n",
       "    .dataframe tbody tr th:only-of-type {\n",
       "        vertical-align: middle;\n",
       "    }\n",
       "\n",
       "    .dataframe tbody tr th {\n",
       "        vertical-align: top;\n",
       "    }\n",
       "\n",
       "    .dataframe thead th {\n",
       "        text-align: right;\n",
       "    }\n",
       "</style>\n",
       "<table border=\"1\" class=\"dataframe\">\n",
       "  <thead>\n",
       "    <tr style=\"text-align: right;\">\n",
       "      <th></th>\n",
       "      <th>listing_id</th>\n",
       "      <th>listing_name</th>\n",
       "      <th>listing_type</th>\n",
       "      <th>room_type</th>\n",
       "      <th>photos_count</th>\n",
       "      <th>host_id</th>\n",
       "      <th>host_name</th>\n",
       "      <th>superhost</th>\n",
       "      <th>latitude</th>\n",
       "      <th>longitude</th>\n",
       "      <th>...</th>\n",
       "      <th>ttm_available_days</th>\n",
       "      <th>l90d_revenue_native</th>\n",
       "      <th>l90d_avg_rate_native</th>\n",
       "      <th>l90d_occupancy</th>\n",
       "      <th>l90d_adjusted_occupancy</th>\n",
       "      <th>l90d_revpar_native</th>\n",
       "      <th>l90d_adjusted_revpar_native</th>\n",
       "      <th>l90d_reserved_days</th>\n",
       "      <th>l90d_blocked_days</th>\n",
       "      <th>l90d_available_days</th>\n",
       "    </tr>\n",
       "  </thead>\n",
       "  <tbody>\n",
       "    <tr>\n",
       "      <th>0</th>\n",
       "      <td>471581</td>\n",
       "      <td>Located In a Serene Environment</td>\n",
       "      <td>Entire cottage</td>\n",
       "      <td>entire_home</td>\n",
       "      <td>37</td>\n",
       "      <td>2280941</td>\n",
       "      <td>Bella</td>\n",
       "      <td>True</td>\n",
       "      <td>-1.2268</td>\n",
       "      <td>36.8577</td>\n",
       "      <td>...</td>\n",
       "      <td>257</td>\n",
       "      <td>233475.0</td>\n",
       "      <td>5202.7</td>\n",
       "      <td>0.500</td>\n",
       "      <td>0.726</td>\n",
       "      <td>2594.2</td>\n",
       "      <td>3765.7</td>\n",
       "      <td>45</td>\n",
       "      <td>28</td>\n",
       "      <td>45</td>\n",
       "    </tr>\n",
       "    <tr>\n",
       "      <th>1</th>\n",
       "      <td>906958</td>\n",
       "      <td>Makena's Place Karen - Flamingo Room</td>\n",
       "      <td>Private room in cottage</td>\n",
       "      <td>private_room</td>\n",
       "      <td>29</td>\n",
       "      <td>4856316</td>\n",
       "      <td>Chichi</td>\n",
       "      <td>True</td>\n",
       "      <td>-1.3240</td>\n",
       "      <td>36.7053</td>\n",
       "      <td>...</td>\n",
       "      <td>284</td>\n",
       "      <td>67833.0</td>\n",
       "      <td>6888.1</td>\n",
       "      <td>0.111</td>\n",
       "      <td>0.147</td>\n",
       "      <td>753.7</td>\n",
       "      <td>997.5</td>\n",
       "      <td>10</td>\n",
       "      <td>22</td>\n",
       "      <td>80</td>\n",
       "    </tr>\n",
       "    <tr>\n",
       "      <th>2</th>\n",
       "      <td>1023556</td>\n",
       "      <td>Home in Langata 1 km to Nairobi National Park</td>\n",
       "      <td>Entire guesthouse</td>\n",
       "      <td>entire_home</td>\n",
       "      <td>20</td>\n",
       "      <td>5634522</td>\n",
       "      <td>Janet</td>\n",
       "      <td>False</td>\n",
       "      <td>-1.3222</td>\n",
       "      <td>36.7852</td>\n",
       "      <td>...</td>\n",
       "      <td>354</td>\n",
       "      <td>10078.0</td>\n",
       "      <td>2482.1</td>\n",
       "      <td>0.044</td>\n",
       "      <td>0.000</td>\n",
       "      <td>112.0</td>\n",
       "      <td>0.0</td>\n",
       "      <td>4</td>\n",
       "      <td>0</td>\n",
       "      <td>86</td>\n",
       "    </tr>\n",
       "    <tr>\n",
       "      <th>3</th>\n",
       "      <td>1237886</td>\n",
       "      <td>Hob House</td>\n",
       "      <td>Room in bed and breakfast</td>\n",
       "      <td>hotel_room</td>\n",
       "      <td>8</td>\n",
       "      <td>6748840</td>\n",
       "      <td>NaN</td>\n",
       "      <td>False</td>\n",
       "      <td>-1.2258</td>\n",
       "      <td>36.7679</td>\n",
       "      <td>...</td>\n",
       "      <td>350</td>\n",
       "      <td>80106.0</td>\n",
       "      <td>15639.3</td>\n",
       "      <td>0.056</td>\n",
       "      <td>0.000</td>\n",
       "      <td>890.1</td>\n",
       "      <td>0.0</td>\n",
       "      <td>5</td>\n",
       "      <td>0</td>\n",
       "      <td>85</td>\n",
       "    </tr>\n",
       "    <tr>\n",
       "      <th>4</th>\n",
       "      <td>1803821</td>\n",
       "      <td>Makena's Place Karen - All Rooms</td>\n",
       "      <td>Private room in cottage</td>\n",
       "      <td>private_room</td>\n",
       "      <td>58</td>\n",
       "      <td>4856316</td>\n",
       "      <td>Chichi</td>\n",
       "      <td>True</td>\n",
       "      <td>-1.3237</td>\n",
       "      <td>36.7059</td>\n",
       "      <td>...</td>\n",
       "      <td>326</td>\n",
       "      <td>65507.0</td>\n",
       "      <td>16196.3</td>\n",
       "      <td>0.044</td>\n",
       "      <td>0.055</td>\n",
       "      <td>727.9</td>\n",
       "      <td>897.4</td>\n",
       "      <td>4</td>\n",
       "      <td>17</td>\n",
       "      <td>86</td>\n",
       "    </tr>\n",
       "  </tbody>\n",
       "</table>\n",
       "<p>5 rows × 46 columns</p>\n",
       "</div>"
      ],
      "text/plain": [
       "   listing_id                                   listing_name  \\\n",
       "0      471581                Located In a Serene Environment   \n",
       "1      906958           Makena's Place Karen - Flamingo Room   \n",
       "2     1023556  Home in Langata 1 km to Nairobi National Park   \n",
       "3     1237886                                      Hob House   \n",
       "4     1803821               Makena's Place Karen - All Rooms   \n",
       "\n",
       "                listing_type     room_type  photos_count  host_id host_name  \\\n",
       "0             Entire cottage   entire_home            37  2280941     Bella   \n",
       "1    Private room in cottage  private_room            29  4856316    Chichi   \n",
       "2          Entire guesthouse   entire_home            20  5634522     Janet   \n",
       "3  Room in bed and breakfast    hotel_room             8  6748840       NaN   \n",
       "4    Private room in cottage  private_room            58  4856316    Chichi   \n",
       "\n",
       "   superhost  latitude  longitude  ...  ttm_available_days  \\\n",
       "0       True   -1.2268    36.8577  ...                 257   \n",
       "1       True   -1.3240    36.7053  ...                 284   \n",
       "2      False   -1.3222    36.7852  ...                 354   \n",
       "3      False   -1.2258    36.7679  ...                 350   \n",
       "4       True   -1.3237    36.7059  ...                 326   \n",
       "\n",
       "   l90d_revenue_native  l90d_avg_rate_native  l90d_occupancy  \\\n",
       "0             233475.0                5202.7           0.500   \n",
       "1              67833.0                6888.1           0.111   \n",
       "2              10078.0                2482.1           0.044   \n",
       "3              80106.0               15639.3           0.056   \n",
       "4              65507.0               16196.3           0.044   \n",
       "\n",
       "  l90d_adjusted_occupancy l90d_revpar_native l90d_adjusted_revpar_native  \\\n",
       "0                   0.726             2594.2                      3765.7   \n",
       "1                   0.147              753.7                       997.5   \n",
       "2                   0.000              112.0                         0.0   \n",
       "3                   0.000              890.1                         0.0   \n",
       "4                   0.055              727.9                       897.4   \n",
       "\n",
       "   l90d_reserved_days l90d_blocked_days  l90d_available_days  \n",
       "0                  45                28                   45  \n",
       "1                  10                22                   80  \n",
       "2                   4                 0                   86  \n",
       "3                   5                 0                   85  \n",
       "4                   4                17                   86  \n",
       "\n",
       "[5 rows x 46 columns]"
      ]
     },
     "execution_count": 16,
     "metadata": {},
     "output_type": "execute_result"
    }
   ],
   "source": [
    "df_listings.head()"
   ]
  },
  {
   "cell_type": "code",
   "execution_count": null,
   "id": "f574af26",
   "metadata": {},
   "outputs": [],
   "source": [
    "# Plot distributions of the most significant features\n",
    "\n",
    "cols = ['cleaning_fee','extra_guest_fee', 'num_reviews', 'ttm_adjusted_occupancy','ttm_revpar_native', \n",
    "        'ttm_adjusted_revpar_native','ttm_available_days','ttm_revenue_native','ttm_avg_rate_native','l90d_revenue_native', \n",
    "        'ttm_reserved_days','l90d_avg_rate_native',]\n",
    "\n",
    "def create_distributions(data, cols):\n",
    "    # create the figure canvas\n",
    "    fig, axs = plt.subplots(figsize=(10,8))\n",
    "    fig.subplots_adjust()\n",
    "    axs = axs.flatten()\n",
    "    plt.tight_layout()\n",
    "\n",
    "    # plot the boxplots\n",
    "    for i, col in enumerate(cols):\n",
    "        if i < len(cols):\n",
    "            sns.boxplot(data=data, x=col ,ax=axs[i] )\n",
    "        else:\n",
    "            break\n",
    "\n",
    "\n",
    "\n"
   ]
  },
  {
   "cell_type": "code",
   "execution_count": null,
   "id": "f42bd2c4",
   "metadata": {},
   "outputs": [
    {
     "data": {
      "application/vnd.microsoft.datawrangler.viewer.v0+json": {
       "columns": [
        {
         "name": "index",
         "rawType": "object",
         "type": "string"
        },
        {
         "name": "count",
         "rawType": "object",
         "type": "unknown"
        },
        {
         "name": "mean",
         "rawType": "object",
         "type": "unknown"
        },
        {
         "name": "min",
         "rawType": "object",
         "type": "unknown"
        },
        {
         "name": "25%",
         "rawType": "object",
         "type": "unknown"
        },
        {
         "name": "50%",
         "rawType": "object",
         "type": "unknown"
        },
        {
         "name": "75%",
         "rawType": "object",
         "type": "unknown"
        },
        {
         "name": "max",
         "rawType": "object",
         "type": "unknown"
        },
        {
         "name": "std",
         "rawType": "object",
         "type": "unknown"
        }
       ],
       "ref": "7da6a327-1449-48f7-bfb4-fe0714c56e8e",
       "rows": [
        [
         "date",
         "3542",
         "2025-02-13 11:23:00.237154048",
         "2024-09-01 00:00:00",
         "2024-11-01 00:00:00",
         "2025-02-01 00:00:00",
         "2025-05-01 00:00:00",
         "2025-08-01 00:00:00",
         null
        ],
        [
         "vacant_days",
         "3542.0",
         "24.111801242236027",
         "0.0",
         "20.0",
         "28.0",
         "31.0",
         "31.0",
         "8.779705725147332"
        ],
        [
         "reserved_days",
         "3542.0",
         "6.30265386787126",
         "0.0",
         "0.0",
         "1.0",
         "10.0",
         "31.0",
         "8.74505637654708"
        ],
        [
         "occupancy",
         "3542.0",
         "0.20733512140033883",
         "0.0",
         "0.0",
         "0.033",
         "0.333",
         "1.0",
         "0.2878335289979097"
        ],
        [
         "min_nights_avg",
         "2380.0",
         "2.3529411764705883",
         "1.0",
         "1.0",
         "1.0",
         "2.0",
         "31.0",
         "4.175104331607609"
        ],
        [
         "native_rate_avg",
         "3542.0",
         "7274.477131564088",
         "1124.0",
         "4056.25",
         "6045.5",
         "8578.5",
         "102246.0",
         "6844.253199693996"
        ],
        [
         "native_revenue",
         "3542.0",
         "45314.4568040655",
         "0.0",
         "0.0",
         "7057.5",
         "59069.0",
         "2348193.0",
         "98140.05588406927"
        ]
       ],
       "shape": {
        "columns": 8,
        "rows": 7
       }
      },
      "text/html": [
       "<div>\n",
       "<style scoped>\n",
       "    .dataframe tbody tr th:only-of-type {\n",
       "        vertical-align: middle;\n",
       "    }\n",
       "\n",
       "    .dataframe tbody tr th {\n",
       "        vertical-align: top;\n",
       "    }\n",
       "\n",
       "    .dataframe thead th {\n",
       "        text-align: right;\n",
       "    }\n",
       "</style>\n",
       "<table border=\"1\" class=\"dataframe\">\n",
       "  <thead>\n",
       "    <tr style=\"text-align: right;\">\n",
       "      <th></th>\n",
       "      <th>count</th>\n",
       "      <th>mean</th>\n",
       "      <th>min</th>\n",
       "      <th>25%</th>\n",
       "      <th>50%</th>\n",
       "      <th>75%</th>\n",
       "      <th>max</th>\n",
       "      <th>std</th>\n",
       "    </tr>\n",
       "  </thead>\n",
       "  <tbody>\n",
       "    <tr>\n",
       "      <th>date</th>\n",
       "      <td>3542</td>\n",
       "      <td>2025-02-13 11:23:00.237154048</td>\n",
       "      <td>2024-09-01 00:00:00</td>\n",
       "      <td>2024-11-01 00:00:00</td>\n",
       "      <td>2025-02-01 00:00:00</td>\n",
       "      <td>2025-05-01 00:00:00</td>\n",
       "      <td>2025-08-01 00:00:00</td>\n",
       "      <td>NaN</td>\n",
       "    </tr>\n",
       "    <tr>\n",
       "      <th>vacant_days</th>\n",
       "      <td>3542.0</td>\n",
       "      <td>24.111801</td>\n",
       "      <td>0.0</td>\n",
       "      <td>20.0</td>\n",
       "      <td>28.0</td>\n",
       "      <td>31.0</td>\n",
       "      <td>31.0</td>\n",
       "      <td>8.779706</td>\n",
       "    </tr>\n",
       "    <tr>\n",
       "      <th>reserved_days</th>\n",
       "      <td>3542.0</td>\n",
       "      <td>6.302654</td>\n",
       "      <td>0.0</td>\n",
       "      <td>0.0</td>\n",
       "      <td>1.0</td>\n",
       "      <td>10.0</td>\n",
       "      <td>31.0</td>\n",
       "      <td>8.745056</td>\n",
       "    </tr>\n",
       "    <tr>\n",
       "      <th>occupancy</th>\n",
       "      <td>3542.0</td>\n",
       "      <td>0.207335</td>\n",
       "      <td>0.0</td>\n",
       "      <td>0.0</td>\n",
       "      <td>0.033</td>\n",
       "      <td>0.333</td>\n",
       "      <td>1.0</td>\n",
       "      <td>0.287834</td>\n",
       "    </tr>\n",
       "    <tr>\n",
       "      <th>min_nights_avg</th>\n",
       "      <td>2380.0</td>\n",
       "      <td>2.352941</td>\n",
       "      <td>1.0</td>\n",
       "      <td>1.0</td>\n",
       "      <td>1.0</td>\n",
       "      <td>2.0</td>\n",
       "      <td>31.0</td>\n",
       "      <td>4.175104</td>\n",
       "    </tr>\n",
       "    <tr>\n",
       "      <th>native_rate_avg</th>\n",
       "      <td>3542.0</td>\n",
       "      <td>7274.477132</td>\n",
       "      <td>1124.0</td>\n",
       "      <td>4056.25</td>\n",
       "      <td>6045.5</td>\n",
       "      <td>8578.5</td>\n",
       "      <td>102246.0</td>\n",
       "      <td>6844.2532</td>\n",
       "    </tr>\n",
       "    <tr>\n",
       "      <th>native_revenue</th>\n",
       "      <td>3542.0</td>\n",
       "      <td>45314.456804</td>\n",
       "      <td>0.0</td>\n",
       "      <td>0.0</td>\n",
       "      <td>7057.5</td>\n",
       "      <td>59069.0</td>\n",
       "      <td>2348193.0</td>\n",
       "      <td>98140.055884</td>\n",
       "    </tr>\n",
       "  </tbody>\n",
       "</table>\n",
       "</div>"
      ],
      "text/plain": [
       "                  count                           mean                  min  \\\n",
       "date               3542  2025-02-13 11:23:00.237154048  2024-09-01 00:00:00   \n",
       "vacant_days      3542.0                      24.111801                  0.0   \n",
       "reserved_days    3542.0                       6.302654                  0.0   \n",
       "occupancy        3542.0                       0.207335                  0.0   \n",
       "min_nights_avg   2380.0                       2.352941                  1.0   \n",
       "native_rate_avg  3542.0                    7274.477132               1124.0   \n",
       "native_revenue   3542.0                   45314.456804                  0.0   \n",
       "\n",
       "                                 25%                  50%  \\\n",
       "date             2024-11-01 00:00:00  2025-02-01 00:00:00   \n",
       "vacant_days                     20.0                 28.0   \n",
       "reserved_days                    0.0                  1.0   \n",
       "occupancy                        0.0                0.033   \n",
       "min_nights_avg                   1.0                  1.0   \n",
       "native_rate_avg              4056.25               6045.5   \n",
       "native_revenue                   0.0               7057.5   \n",
       "\n",
       "                                 75%                  max           std  \n",
       "date             2025-05-01 00:00:00  2025-08-01 00:00:00           NaN  \n",
       "vacant_days                     31.0                 31.0      8.779706  \n",
       "reserved_days                   10.0                 31.0      8.745056  \n",
       "occupancy                      0.333                  1.0      0.287834  \n",
       "min_nights_avg                   2.0                 31.0      4.175104  \n",
       "native_rate_avg               8578.5             102246.0     6844.2532  \n",
       "native_revenue               59069.0            2348193.0  98140.055884  "
      ]
     },
     "execution_count": 43,
     "metadata": {},
     "output_type": "execute_result"
    }
   ],
   "source": [
    "# Summary statistics for df_calendar\n",
    "df_calendar.iloc[:, 1:].describe().T"
   ]
  },
  {
   "cell_type": "markdown",
   "id": "22362a14",
   "metadata": {},
   "source": [
    "# summary from the summary statistics on listings\n"
   ]
  },
  {
   "cell_type": "code",
   "execution_count": null,
   "id": "6e817107",
   "metadata": {},
   "outputs": [],
   "source": []
  }
 ],
 "metadata": {
  "kernelspec": {
   "display_name": ".venv",
   "language": "python",
   "name": "python3"
  },
  "language_info": {
   "codemirror_mode": {
    "name": "ipython",
    "version": 3
   },
   "file_extension": ".py",
   "mimetype": "text/x-python",
   "name": "python",
   "nbconvert_exporter": "python",
   "pygments_lexer": "ipython3",
   "version": "3.13.0"
  }
 },
 "nbformat": 4,
 "nbformat_minor": 5
}
